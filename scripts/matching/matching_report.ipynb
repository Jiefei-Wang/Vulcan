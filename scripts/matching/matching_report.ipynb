{
 "cells": [
  {
   "cell_type": "code",
   "execution_count": 11,
   "id": "3829ef48",
   "metadata": {},
   "outputs": [],
   "source": [
    "import pandas as pd\n",
    "import numpy as np\n",
    "import os\n",
    "\n",
    "## normalize path\n",
    "path_root = \"../../data\""
   ]
  },
  {
   "cell_type": "code",
   "execution_count": null,
   "id": "14034e2e",
   "metadata": {},
   "outputs": [],
   "source": [
    "# Load Data\n",
    "concept= pd.read_feather(os.path.join(path_root, 'omop_feather', 'concept.feather'))\n",
    "std_bridge = pd.read_feather(os.path.join(path_root, 'omop_feather', 'std_bridge.feather'))\n"
   ]
  },
  {
   "cell_type": "code",
   "execution_count": 13,
   "id": "ae3befea",
   "metadata": {},
   "outputs": [],
   "source": [
    "# std and non-std concepts\n",
    "std_concept = concept[concept['standard_concept'] == 'S']\n",
    "nonstd_concept = concept[concept['standard_concept'] != 'S']"
   ]
  },
  {
   "cell_type": "code",
   "execution_count": 14,
   "id": "4afa97ae",
   "metadata": {},
   "outputs": [
    {
     "data": {
      "application/vnd.microsoft.datawrangler.viewer.v0+json": {
       "columns": [
        {
         "name": "vocabulary_id",
         "rawType": "object",
         "type": "string"
        },
        {
         "name": "concept_id",
         "rawType": "int64",
         "type": "integer"
        }
       ],
       "ref": "d4039fc3-c201-4ce2-97b9-b6c964affd45",
       "rows": [
        [
         "HCPCS",
         "1"
        ],
        [
         "ICDO3",
         "56858"
        ],
        [
         "Nebraska Lexicon",
         "1274"
        ],
        [
         "OMOP Extension",
         "341"
        ],
        [
         "OPCS4",
         "1"
        ],
        [
         "SNOMED",
         "98720"
        ],
        [
         "SNOMED Veterinary",
         "3093"
        ]
       ],
       "shape": {
        "columns": 1,
        "rows": 7
       }
      },
      "text/plain": [
       "vocabulary_id\n",
       "HCPCS                    1\n",
       "ICDO3                56858\n",
       "Nebraska Lexicon      1274\n",
       "OMOP Extension         341\n",
       "OPCS4                    1\n",
       "SNOMED               98720\n",
       "SNOMED Veterinary     3093\n",
       "Name: concept_id, dtype: int64"
      ]
     },
     "execution_count": 14,
     "metadata": {},
     "output_type": "execute_result"
    }
   ],
   "source": [
    "std_conditions = std_concept[std_concept.domain_id == 'Condition']\n",
    "std_conditions.groupby('vocabulary_id')['concept_id'].count()"
   ]
  },
  {
   "cell_type": "code",
   "execution_count": 15,
   "id": "6d754a6a",
   "metadata": {},
   "outputs": [
    {
     "data": {
      "application/vnd.microsoft.datawrangler.viewer.v0+json": {
       "columns": [
        {
         "name": "vocabulary_id",
         "rawType": "object",
         "type": "string"
        },
        {
         "name": "concept_id",
         "rawType": "int64",
         "type": "integer"
        }
       ],
       "ref": "87af6911-b727-405f-9c68-a2a3051b6f29",
       "rows": [
        [
         "CDISC",
         "455"
        ],
        [
         "CIEL",
         "38818"
        ],
        [
         "CIM10",
         "13885"
        ],
        [
         "CO-CONNECT",
         "16"
        ],
        [
         "Cohort",
         "66"
        ],
        [
         "HemOnc",
         "260"
        ],
        [
         "ICD10",
         "14113"
        ],
        [
         "ICD10CM",
         "88510"
        ],
        [
         "ICD10CN",
         "30588"
        ],
        [
         "ICD10GM",
         "15952"
        ],
        [
         "ICD9CM",
         "14929"
        ],
        [
         "ICDO3",
         "5677"
        ],
        [
         "KCD7",
         "19705"
        ],
        [
         "MeSH",
         "12343"
        ],
        [
         "Nebraska Lexicon",
         "150062"
        ],
        [
         "OMOP Extension",
         "8"
        ],
        [
         "OPCS4",
         "5"
        ],
        [
         "OXMIS",
         "5704"
        ],
        [
         "OncoTree",
         "885"
        ],
        [
         "PPI",
         "74"
        ],
        [
         "Read",
         "47836"
        ],
        [
         "SMQ",
         "324"
        ],
        [
         "SNOMED",
         "58172"
        ],
        [
         "SNOMED Veterinary",
         "144"
        ]
       ],
       "shape": {
        "columns": 1,
        "rows": 24
       }
      },
      "text/plain": [
       "vocabulary_id\n",
       "CDISC                   455\n",
       "CIEL                  38818\n",
       "CIM10                 13885\n",
       "CO-CONNECT               16\n",
       "Cohort                   66\n",
       "HemOnc                  260\n",
       "ICD10                 14113\n",
       "ICD10CM               88510\n",
       "ICD10CN               30588\n",
       "ICD10GM               15952\n",
       "ICD9CM                14929\n",
       "ICDO3                  5677\n",
       "KCD7                  19705\n",
       "MeSH                  12343\n",
       "Nebraska Lexicon     150062\n",
       "OMOP Extension            8\n",
       "OPCS4                     5\n",
       "OXMIS                  5704\n",
       "OncoTree                885\n",
       "PPI                      74\n",
       "Read                  47836\n",
       "SMQ                     324\n",
       "SNOMED                58172\n",
       "SNOMED Veterinary       144\n",
       "Name: concept_id, dtype: int64"
      ]
     },
     "execution_count": 15,
     "metadata": {},
     "output_type": "execute_result"
    }
   ],
   "source": [
    "nonstd_conditions = nonstd_concept[nonstd_concept.domain_id == 'Condition']\n",
    "nonstd_conditions.groupby('vocabulary_id')['concept_id'].count()"
   ]
  }
 ],
 "metadata": {
  "kernelspec": {
   "display_name": "base",
   "language": "python",
   "name": "python3"
  },
  "language_info": {
   "codemirror_mode": {
    "name": "ipython",
    "version": 3
   },
   "file_extension": ".py",
   "mimetype": "text/x-python",
   "name": "python",
   "nbconvert_exporter": "python",
   "pygments_lexer": "ipython3",
   "version": "3.11.7"
  }
 },
 "nbformat": 4,
 "nbformat_minor": 5
}
