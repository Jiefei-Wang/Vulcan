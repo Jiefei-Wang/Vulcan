{
 "cells": [
  {
   "cell_type": "code",
   "execution_count": 2,
   "metadata": {},
   "outputs": [
    {
     "data": {
      "text/plain": [
       "True"
      ]
     },
     "execution_count": 2,
     "metadata": {},
     "output_type": "execute_result"
    }
   ],
   "source": [
    "import os\n",
    "os.environ['FOR_DISABLE_CONSOLE_CTRL_HANDLER'] = '1'\n",
    "\n",
    "import torch\n",
    "import pandas as pd\n",
    "import numpy as np\n",
    "# from transformers import AutoTokenizer, AutoModel\n",
    "from sentence_transformers import SentenceTransformer, SentenceTransformerTrainer, losses, models\n",
    "from sentence_transformers.training_args import SentenceTransformerTrainingArguments\n",
    "from datasets import Dataset, DatasetDict, concatenate_datasets\n",
    "\n",
    "## make sure cuda is available\n",
    "torch.cuda.is_available()"
   ]
  },
  {
   "cell_type": "code",
   "execution_count": 3,
   "metadata": {},
   "outputs": [],
   "source": [
    "dataset_dict = DatasetDict.load_from_disk('../data/train_dataset_dict')\n",
    "\n",
    "## combine matching and relation\n",
    "dataset_matching = dataset_dict['matching']\n",
    "dataset_relation = dataset_dict['relation']"
   ]
  },
  {
   "cell_type": "code",
   "execution_count": 4,
   "metadata": {},
   "outputs": [
    {
     "name": "stdout",
     "output_type": "stream",
     "text": [
      "{'matching': Dataset({\n",
      "    features: ['sentence1', 'sentence2', 'label'],\n",
      "    num_rows: 3530014\n",
      "}), 'relation': Dataset({\n",
      "    features: ['sentence1', 'sentence2', 'label'],\n",
      "    num_rows: 14683026\n",
      "})}\n",
      "{'matching': Dataset({\n",
      "    features: ['sentence1', 'sentence2', 'label'],\n",
      "    num_rows: 1766\n",
      "}), 'relation': Dataset({\n",
      "    features: ['sentence1', 'sentence2', 'label'],\n",
      "    num_rows: 1469\n",
      "})}\n"
     ]
    }
   ],
   "source": [
    "## train test split\n",
    "dataset_matching_split = dataset_matching.train_test_split(test_size=0.0005, seed=42)\n",
    "dataset_relation_split = dataset_relation.train_test_split(test_size=0.0001, seed=42)\n",
    "\n",
    "dataset_matching_train = dataset_matching_split['train']\n",
    "dataset_matching_test = dataset_matching_split['test']\n",
    "dataset_relation_train = dataset_relation_split['train']\n",
    "dataset_relation_test = dataset_relation_split['test']\n",
    "\n",
    "\n",
    "train_dataset = {\n",
    "    'matching': dataset_matching_train,\n",
    "    'relation': dataset_relation_train\n",
    "}\n",
    "test_dataset = {\n",
    "    'matching': dataset_matching_test,\n",
    "    'relation': dataset_relation_test\n",
    "}\n",
    "\n",
    "print(train_dataset)\n",
    "print(test_dataset)"
   ]
  },
  {
   "cell_type": "code",
   "execution_count": 5,
   "metadata": {},
   "outputs": [
    {
     "name": "stderr",
     "output_type": "stream",
     "text": [
      "The new embeddings will be initialized from a multivariate normal distribution that has old embeddings' mean and covariance. As described in this article: https://nlp.stanford.edu/~johnhew/vocab-expansion.html. To disable this, use `mean_resizing=False`\n"
     ]
    }
   ],
   "source": [
    "model = SentenceTransformer('../models/all-MiniLM-L6-v2')\n",
    "\n",
    "## add special tokens\n",
    "transformer = model[0]  \n",
    "tokenizer = transformer.tokenizer\n",
    "auto_model = transformer.auto_model\n",
    "\n",
    "# Now you can add special tokens to the tokenizer\n",
    "special_tokens_dict = {\n",
    "    \"additional_special_tokens\": [\"[MATCHING]\", \"[RELATION]\"]\n",
    "}\n",
    "num_added_tokens = tokenizer.add_special_tokens(special_tokens_dict)\n",
    "\n",
    "# Resize the model embeddings if we added tokens\n",
    "if num_added_tokens > 0:\n",
    "    auto_model.resize_token_embeddings(len(tokenizer))"
   ]
  },
  {
   "cell_type": "code",
   "execution_count": 6,
   "metadata": {},
   "outputs": [
    {
     "name": "stderr",
     "output_type": "stream",
     "text": [
      "                                                                             \r"
     ]
    }
   ],
   "source": [
    "from sentence_transformers.evaluation import BinaryClassificationEvaluator\n",
    "\n",
    "# Initialize the evaluator\n",
    "dev_evaluator1 = BinaryClassificationEvaluator(\n",
    "    sentences1=dataset_matching_test[\"sentence1\"],\n",
    "    sentences2=dataset_matching_test[\"sentence2\"],\n",
    "    labels=dataset_matching_test[\"label\"],\n",
    "    name=\"evaluation1\",\n",
    ")\n",
    "dev_evaluator1(model)\n",
    "\n",
    "train_loss = {\n",
    "    'matching' : losses.ContrastiveLoss(model=model),\n",
    "    'relation' : losses.ContrastiveLoss(model=model)\n",
    "}\n",
    "\n",
    "output_dir = \"../models/fine-tuned2\"\n",
    "\n",
    "args = SentenceTransformerTrainingArguments(\n",
    "    # Required parameter:\n",
    "    output_dir=output_dir,\n",
    "    # Optional training parameters:\n",
    "    num_train_epochs=10,\n",
    "    per_device_train_batch_size=64,\n",
    "    per_device_eval_batch_size=64,\n",
    "    warmup_ratio=0.1,\n",
    "    fp16=True,  # Set to False if your GPU can't handle FP16\n",
    "    bf16=False,  # Set to True if your GPU supports BF16\n",
    "    # batch_sampler=BatchSamplers.NO_DUPLICATES,  # Losses using \"in-batch negatives\" benefit from no duplicates\n",
    "    # Optional tracking/debugging parameters:\n",
    "    eval_strategy=\"steps\",\n",
    "    eval_steps=500,\n",
    "    save_strategy=\"steps\",\n",
    "    save_steps=1000,\n",
    "    save_total_limit=2,\n",
    "    logging_steps=500,\n",
    "    run_name=\"mpnet-base-all-nli-triplet\",  # Used in W&B if `wandb` is installed\n",
    ")\n",
    "\n",
    "trainer = SentenceTransformerTrainer(\n",
    "    model=model,\n",
    "    train_dataset=train_dataset,\n",
    "    eval_dataset=test_dataset,\n",
    "    loss=train_loss,\n",
    "    args=args,\n",
    "    evaluator=dev_evaluator1,\n",
    ")"
   ]
  },
  {
   "cell_type": "code",
   "execution_count": null,
   "metadata": {},
   "outputs": [
    {
     "data": {
      "text/html": [
       "\n",
       "    <div>\n",
       "      \n",
       "      <progress value='119' max='2845800' style='width:300px; height:20px; vertical-align: middle;'></progress>\n",
       "      [    119/2845800 01:22 < 555:12:30, 1.42 it/s, Epoch 0.00/10]\n",
       "    </div>\n",
       "    <table border=\"1\" class=\"dataframe\">\n",
       "  <thead>\n",
       " <tr style=\"text-align: left;\">\n",
       "      <th>Step</th>\n",
       "      <th>Training Loss</th>\n",
       "      <th>Validation Loss</th>\n",
       "    </tr>\n",
       "  </thead>\n",
       "  <tbody>\n",
       "  </tbody>\n",
       "</table><p>"
      ],
      "text/plain": [
       "<IPython.core.display.HTML object>"
      ]
     },
     "metadata": {},
     "output_type": "display_data"
    }
   ],
   "source": [
    "trainer.train()"
   ]
  },
  {
   "cell_type": "code",
   "execution_count": null,
   "metadata": {},
   "outputs": [],
   "source": [
    "model.save(f\"../{output_dir}/final\")"
   ]
  }
 ],
 "metadata": {
  "kernelspec": {
   "display_name": "mapping",
   "language": "python",
   "name": "python3"
  },
  "language_info": {
   "codemirror_mode": {
    "name": "ipython",
    "version": 3
   },
   "file_extension": ".py",
   "mimetype": "text/x-python",
   "name": "python",
   "nbconvert_exporter": "python",
   "pygments_lexer": "ipython3",
   "version": "3.10.16"
  }
 },
 "nbformat": 4,
 "nbformat_minor": 2
}
