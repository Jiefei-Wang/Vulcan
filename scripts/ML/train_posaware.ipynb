{
 "cells": [
  {
   "cell_type": "code",
   "execution_count": 1,
   "id": "0b829219",
   "metadata": {},
   "outputs": [],
   "source": [
    "import os\n",
    "os.environ['FOR_DISABLE_CONSOLE_CTRL_HANDLER'] = '1'\n",
    "\n",
    "import numpy as np\n",
    "import pandas as pd\n",
    "import wandb\n",
    "import torch\n",
    "import argparse\n",
    "from tqdm import tqdm\n",
    "from torch.optim import AdamW\n",
    "from datetime import datetime\n",
    "from sentence_transformers import losses, SentenceTransformer\n",
    "from types import SimpleNamespace\n",
    "\n",
    "from modules.ModelFunctions import get_ST_model, auto_load_model\n",
    "from modules.timed_logger import logger\n",
    "from modules.metrics import evaluate_embedding_similarity_with_mrr\n",
    "from modules.STHardNegMiner import mine_negatives, _pairs_to_dataset\n",
    "from sentence_transformers.util import mine_hard_negatives\n",
    "\n",
    "logger.reset_timer()"
   ]
  },
  {
   "cell_type": "code",
   "execution_count": 2,
   "id": "f482fcd0",
   "metadata": {},
   "outputs": [],
   "source": [
    "\n",
    "args = {\n",
    "    \"test_mode\": False,\n",
    "    \n",
    "    \"no_relation\": False,  # Disable relation data even if files exist or config says True\n",
    "    \"range_min\": 10,       # Minimum rank for candidate negatives\n",
    "    \"range_max\": 50,       # Maximum rank for candidate negatives\n",
    "    \"relative_margin\": 0.01,  # Relative margin for mining\n",
    "    \"num_neg_matching\": None,  # Negatives per anchor for matching mining (override)\n",
    "    \"num_neg_relation\": None,  # Negatives per anchor for relation mining (override)\n",
    "    \"sampling_strategy\": \"top\",  # Negative sampling strategy from candidates\n",
    "    \"mine_batch_size\": 256,      # Batch size for miner embedding\n",
    "    \"no_faiss\": False,           # Disable FAISS acceleration in miner\n",
    "    \"model_checkpoint\": \"none\",  # Path to model checkpoint to load (default: none - use HF base model)\n",
    "    \n",
    "    \n",
    "    \"use_relation\": True,\n",
    "    \"n_pos_matching\": 5,\n",
    "    \"n_neg_matching\": 5,\n",
    "    \"n_fp_matching\": 5,\n",
    "    \"n_pos_relation\": 5,\n",
    "    \"n_neg_relation\": 5,\n",
    "    \"n_fp_relation\": 5,\n",
    "    \n",
    "}\n",
    "\n",
    "args = SimpleNamespace(**args)\n"
   ]
  },
  {
   "cell_type": "markdown",
   "id": "08d5430c",
   "metadata": {},
   "source": [
    "# Initialize Model"
   ]
  },
  {
   "cell_type": "code",
   "execution_count": 3,
   "id": "b3f379e3",
   "metadata": {},
   "outputs": [
    {
     "name": "stderr",
     "output_type": "stream",
     "text": [
      "2025-10-01 23:23:45 - Loading Model (pos-aware training) (Elapsed: 0.03s, Since last: 0.03s)\n",
      "2025-10-01 23:23:45 - Loading base model with special tokens: all-MiniLM-L6-v2 (Elapsed: 0.04s, Since last: 0.00s)\n",
      "2025-10-01 23:23:45 - Use pytorch device_name: cuda:0\n",
      "2025-10-01 23:23:45 - Load pretrained SentenceTransformer: models/all-MiniLM-L6-v2_ST_childof_parentof\\auto_save_1_20251001_164241\n"
     ]
    },
    {
     "name": "stdout",
     "output_type": "stream",
     "text": [
      "Loaded latest auto-saved model from: models/all-MiniLM-L6-v2_ST_childof_parentof\\auto_save_1_20251001_164241\n"
     ]
    }
   ],
   "source": [
    "\n",
    "logger.log(\"Loading Model (pos-aware training)\")\n",
    "output_dir = f\"output/finetune_posaware/{datetime.now().strftime('%Y-%m-%d_%H-%M-%S')}\"\n",
    "base_model = 'all-MiniLM-L6-v2'\n",
    "\n",
    "# Load model - use Hugging Face model directly or specified checkpoint\n",
    "if args.model_checkpoint and args.model_checkpoint != \"none\":\n",
    "    model, tokenizer, args = auto_load_model(args.model_checkpoint)\n",
    "else:\n",
    "    model, tokenizer = None, None\n",
    "\n",
    "if model is None:\n",
    "    # Load base ST model with special tokens for relation support\n",
    "    logger.log(f\"Loading base model with special tokens: {base_model}\")\n",
    "    model, tokenizer = get_ST_model(base_model)\n",
    "\n",
    "# start_epoch = args.epoch\n",
    "# start_batch_i = args.batch_i + 1\n",
    "# start_global_step = args.global_step + 1"
   ]
  },
  {
   "cell_type": "markdown",
   "id": "0b138204",
   "metadata": {},
   "source": [
    "# Load OMOP data"
   ]
  },
  {
   "cell_type": "code",
   "execution_count": 4,
   "id": "7d70badf",
   "metadata": {},
   "outputs": [
    {
     "name": "stderr",
     "output_type": "stream",
     "text": [
      "2025-10-01 23:23:45 - Loading training data (Elapsed: 0.72s, Since last: 0.68s)\n"
     ]
    },
    {
     "data": {
      "text/plain": [
       "((160288, 2), (643319, 2), (566536, 5))"
      ]
     },
     "execution_count": 4,
     "metadata": {},
     "output_type": "execute_result"
    }
   ],
   "source": [
    "logger.log(\"Loading training data\")\n",
    "\n",
    "matching_base_path = \"data/matching\"\n",
    "relation_base_path = \"data/relation\"\n",
    "seed = 42\n",
    "\n",
    "\n",
    "target_concepts_path = os.path.join(matching_base_path, 'target_concepts.feather')\n",
    "target_concepts = pd.read_feather(target_concepts_path)\n",
    "matching_name_bridge = pd.read_feather(os.path.join(matching_base_path, 'condition_matching_name_bridge_train.feather'))\n",
    "matching_name_table = pd.read_feather(os.path.join(matching_base_path, 'condition_matching_name_table_train.feather'))\n",
    "\n",
    "target_concepts.shape, matching_name_bridge.shape, matching_name_table.shape"
   ]
  },
  {
   "cell_type": "markdown",
   "id": "27353036",
   "metadata": {},
   "source": [
    "# Training dataset creation"
   ]
  },
  {
   "cell_type": "code",
   "execution_count": 5,
   "id": "24ceb096",
   "metadata": {},
   "outputs": [
    {
     "name": "stdout",
     "output_type": "stream",
     "text": [
      "Found 104164 unique queries out of 643269 total queries.\n",
      "Found an average of 6.176 positives per query.\n"
     ]
    },
    {
     "data": {
      "application/vnd.jupyter.widget-view+json": {
       "model_id": "4c6419a010674efea470899abd75b3d8",
       "version_major": 2,
       "version_minor": 0
      },
      "text/plain": [
       "Batches:   0%|          | 0/2214 [00:00<?, ?it/s]"
      ]
     },
     "metadata": {},
     "output_type": "display_data"
    },
    {
     "name": "stderr",
     "output_type": "stream",
     "text": [
      "c:\\Users\\jiewang\\AppData\\Local\\anaconda3\\Lib\\site-packages\\transformers\\models\\bert\\modeling_bert.py:440: UserWarning: 1Torch was not compiled with flash attention. (Triggered internally at C:\\actions-runner\\_work\\pytorch\\pytorch\\builder\\windows\\pytorch\\aten\\src\\ATen\\native\\transformers\\cuda\\sdp_utils.cpp:555.)\n",
      "  attn_output = torch.nn.functional.scaled_dot_product_attention(\n"
     ]
    },
    {
     "data": {
      "application/vnd.jupyter.widget-view+json": {
       "model_id": "ac9133b3f7a04659b21240a1d0e806d9",
       "version_major": 2,
       "version_minor": 0
      },
      "text/plain": [
       "Batches:   0%|          | 0/407 [00:00<?, ?it/s]"
      ]
     },
     "metadata": {},
     "output_type": "display_data"
    },
    {
     "name": "stderr",
     "output_type": "stream",
     "text": [
      "2025-10-01 23:24:52 - Loading faiss with AVX512 support.\n",
      "2025-10-01 23:24:52 - Could not load library with AVX512 support due to:\n",
      "ModuleNotFoundError(\"No module named 'faiss.swigfaiss_avx512'\")\n",
      "2025-10-01 23:24:52 - Loading faiss with AVX2 support.\n",
      "2025-10-01 23:24:52 - Successfully loaded faiss with AVX2 support.\n",
      "2025-10-01 23:24:52 - Failed to load GPU Faiss: name 'GpuIndexIVFFlat' is not defined. Will not load constructor refs for GPU indexes. This is only an error if you're trying to use GPU Faiss.\n",
      "Querying FAISS index: 100%|██████████| 7/7 [03:13<00:00, 27.59s/it]\n"
     ]
    },
    {
     "name": "stdout",
     "output_type": "stream",
     "text": [
      "Negative candidates mined, preparing dataset...\n",
      "Metric       Positive       Negative     Difference\n",
      "Count         643,269        616,354               \n",
      "Mean           0.7081         0.7353         0.1659\n",
      "Median         0.7682         0.7429         0.1752\n",
      "Std            0.2435         0.0945         0.1289\n",
      "Min           -0.1426         0.3179        -0.8590\n",
      "25%            0.5470         0.6772         0.1049\n",
      "50%            0.7682         0.7429         0.1752\n",
      "75%            0.9215         0.8024         0.2431\n",
      "Max            1.0000         0.9717         0.6315\n",
      "Skipped 2,042,592 potential negatives (38.45%) due to the relative_margin of 0.01.\n",
      "Could not find enough negatives for 2599991 samples (80.84%). Consider adjusting the range_max, range_min and relative_margin parameters if you'd like to find more valid negatives.\n"
     ]
    },
    {
     "data": {
      "text/plain": [
       "Dataset({\n",
       "    features: ['anchor', 'positive', 'negative'],\n",
       "    num_rows: 616354\n",
       "})"
      ]
     },
     "execution_count": 5,
     "metadata": {},
     "output_type": "execute_result"
    }
   ],
   "source": [
    "\n",
    "\n",
    "# Build anchor/positive pairs for matching and mine negatives with ST builtin\n",
    "anchor_positive_match = matching_name_bridge\n",
    "anchor_positive_match = anchor_positive_match.merge(\n",
    "    matching_name_table[['name_id','name']].rename(columns={'name':'positive'}),\n",
    "    on='name_id'\n",
    ").merge(\n",
    "    target_concepts[['concept_id','concept_name']].rename(columns={'concept_name':'anchor'}),\n",
    "    on='concept_id'\n",
    ")[['anchor','positive']].drop_duplicates()\n",
    "\n",
    "if args.test_mode:\n",
    "    anchor_positive_match = anchor_positive_match.iloc[:1000]\n",
    "\n",
    "\n",
    "matching_pos_ds = _pairs_to_dataset(anchor_positive_match)\n",
    "\n",
    "matching_fp_df = mine_hard_negatives(\n",
    "    dataset=matching_pos_ds,\n",
    "    model=model,\n",
    "    range_min=args.range_min,\n",
    "    range_max=args.range_max,\n",
    "    relative_margin=args.relative_margin,\n",
    "    num_negatives=args.n_fp_matching,\n",
    "    sampling_strategy=args.sampling_strategy,\n",
    "    batch_size=args.mine_batch_size,\n",
    "    use_faiss=not args.no_faiss,\n",
    "    verbose=True,\n",
    ")\n",
    "\n",
    "matching_fp_df\n"
   ]
  },
  {
   "cell_type": "code",
   "execution_count": 6,
   "id": "0f6c33a5",
   "metadata": {},
   "outputs": [
    {
     "data": {
      "text/plain": [
       "{'anchor': 'X-linked lethal multiple pterygium syndrome',\n",
       " 'positive': 'A rare genetic developmental defect during embryogenesis. The disease has the typical lethal multiple pterygium syndrome presentation comprising of multiple pterygia, severe arthrogryposis, cleft palate, cystic hygromata and/or fetal hydrops, skeletal abnormalities and fetal death in the second or third trimester with an X-linked pattern of inheritance.',\n",
       " 'negative': 'A group of rare genetic disorders characterized by the presence of joint contractures and multiple soft tissue webs (pterygia) across the neck and various joints, as well as typical facial appearance and a variety of other congenital anomalies. Both lethal (lethal and X-linked lethal multiple pterygium syndrome) and non-lethal (autosomal recessive and autosomal dominant multiple pterygium syndrome) forms occur.'}"
      ]
     },
     "execution_count": 6,
     "metadata": {},
     "output_type": "execute_result"
    }
   ],
   "source": [
    "matching_fp_df[0]"
   ]
  },
  {
   "cell_type": "code",
   "execution_count": 7,
   "id": "e313ffd8",
   "metadata": {},
   "outputs": [
    {
     "name": "stdout",
     "output_type": "stream",
     "text": [
      "Found 42095 unique queries out of 1029692 total queries.\n",
      "Found an average of 24.461 positives per query.\n"
     ]
    },
    {
     "data": {
      "application/vnd.jupyter.widget-view+json": {
       "model_id": "cb0e23db9fef45ffa0a4232f9aeee991",
       "version_major": 2,
       "version_minor": 0
      },
      "text/plain": [
       "Batches:   0%|          | 0/624 [00:00<?, ?it/s]"
      ]
     },
     "metadata": {},
     "output_type": "display_data"
    },
    {
     "data": {
      "application/vnd.jupyter.widget-view+json": {
       "model_id": "a9f5642462654164b426e9bf1aef823b",
       "version_major": 2,
       "version_minor": 0
      },
      "text/plain": [
       "Batches:   0%|          | 0/165 [00:00<?, ?it/s]"
      ]
     },
     "metadata": {},
     "output_type": "display_data"
    },
    {
     "name": "stderr",
     "output_type": "stream",
     "text": [
      "Querying FAISS index: 100%|██████████| 3/3 [00:22<00:00,  7.62s/it]\n"
     ]
    },
    {
     "name": "stdout",
     "output_type": "stream",
     "text": [
      "Negative candidates mined, preparing dataset...\n",
      "Metric       Positive       Negative     Difference\n",
      "Count       1,029,692        216,216               \n",
      "Mean           0.5357         0.6601         0.0993\n",
      "Median         0.5383         0.6670         0.1182\n",
      "Std            0.1937         0.0940         0.1440\n",
      "Min           -0.1423         0.2245        -0.7102\n",
      "25%            0.3903         0.6030         0.0456\n",
      "50%            0.5383         0.6670         0.1182\n",
      "75%            0.6841         0.7262         0.1890\n",
      "Max            0.9875         0.9574         0.5915\n",
      "Skipped 1,181,225 potential negatives (55.02%) due to the relative_margin of 0.01.\n",
      "Could not find enough negatives for 4932244 samples (95.80%). Consider adjusting the range_max, range_min and relative_margin parameters if you'd like to find more valid negatives.\n"
     ]
    },
    {
     "data": {
      "text/plain": [
       "Dataset({\n",
       "    features: ['anchor', 'positive', 'negative'],\n",
       "    num_rows: 216216\n",
       "})"
      ]
     },
     "execution_count": 7,
     "metadata": {},
     "output_type": "execute_result"
    }
   ],
   "source": [
    "\n",
    "relation_table_path = os.path.join(relation_base_path, 'name_table_relation.feather')\n",
    "relation_bridge_path = os.path.join(relation_base_path, 'name_bridge_relation.feather')\n",
    "relation_available = os.path.exists(relation_table_path) and os.path.exists(relation_bridge_path)\n",
    "if args.use_relation and relation_available:\n",
    "    name_table_relation = pd.read_feather(relation_table_path)\n",
    "    name_bridge_relation = pd.read_feather(relation_bridge_path)\n",
    "\n",
    "\n",
    "    anchor_positive_rel = name_bridge_relation\n",
    "    anchor_positive_rel = anchor_positive_rel.merge(\n",
    "        name_table_relation[['name_id','name']].rename(columns={'name':'positive'}),\n",
    "        on='name_id'\n",
    "    ).merge(\n",
    "        target_concepts[['concept_id','concept_name']].rename(columns={'concept_name':'anchor'}),\n",
    "        on='concept_id'\n",
    "    )[['anchor','positive']].drop_duplicates()\n",
    "\n",
    "    \n",
    "    if args.test_mode:\n",
    "        anchor_positive_rel = anchor_positive_rel.iloc[:1000]\n",
    "    \n",
    "    relation_pos_ds = _pairs_to_dataset(anchor_positive_rel)\n",
    "    \n",
    "    relation_fp_df = mine_hard_negatives(\n",
    "        dataset=relation_pos_ds,\n",
    "        model=model,\n",
    "        range_min=args.range_min,\n",
    "        range_max=args.range_max,\n",
    "        relative_margin=args.relative_margin,\n",
    "        num_negatives=args.n_fp_relation,\n",
    "        sampling_strategy=args.sampling_strategy,\n",
    "        batch_size=args.mine_batch_size,\n",
    "        use_faiss=not args.no_faiss,\n",
    "        verbose=True,\n",
    "    )\n",
    "\n",
    "\n",
    "relation_fp_df"
   ]
  },
  {
   "cell_type": "markdown",
   "id": "bb697d41",
   "metadata": {},
   "source": [
    "## Combine and Create final training dataset"
   ]
  },
  {
   "cell_type": "code",
   "execution_count": 8,
   "id": "f4ed1508",
   "metadata": {},
   "outputs": [
    {
     "data": {
      "text/plain": [
       "Dataset({\n",
       "    features: ['anchor', 'positive', 'negative'],\n",
       "    num_rows: 832570\n",
       "})"
      ]
     },
     "execution_count": 8,
     "metadata": {},
     "output_type": "execute_result"
    }
   ],
   "source": [
    "from datasets import concatenate_datasets\n",
    "\n",
    "if args.use_relation and relation_available:\n",
    "    ds_all = concatenate_datasets([matching_fp_df, relation_fp_df])\n",
    "else:\n",
    "    ds_all = matching_fp_df\n",
    "    \n",
    "ds_all"
   ]
  },
  {
   "cell_type": "markdown",
   "id": "23314275",
   "metadata": {},
   "source": [
    "# Validation dataset"
   ]
  },
  {
   "cell_type": "code",
   "execution_count": 9,
   "id": "f33cee4d",
   "metadata": {},
   "outputs": [
    {
     "name": "stderr",
     "output_type": "stream",
     "text": [
      "2025-10-01 23:30:54 - Loading validation data (Elapsed: 429.53s, Since last: 428.81s)\n"
     ]
    },
    {
     "name": "stdout",
     "output_type": "stream",
     "text": [
      "Index(['corpus_name', 'query_name', 'corpus_id', 'query_id', 'label'], dtype='object')\n",
      "Index(['query_name', 'corpus_name', 'query_id', 'corpus_id', 'label'], dtype='object')\n",
      "Index(['query_name', 'corpus_name', 'query_id', 'corpus_id', 'label'], dtype='object')\n"
     ]
    }
   ],
   "source": [
    "logger.log(\"Loading validation data\")\n",
    "condition_matching_valid = pd.read_feather(os.path.join(matching_base_path, 'condition_matching_valid.feather'))\n",
    "print(condition_matching_valid.columns)\n",
    "\n",
    "condition_matching_train_subset = pd.read_feather(os.path.join(matching_base_path, 'condition_matching_train_subset.feather'))\n",
    "print(condition_matching_train_subset.columns)\n",
    "\n",
    "condition_relation_train_subset = pd.read_feather(os.path.join(relation_base_path, 'condition_relation_train_subset.feather'))\n",
    "print(condition_relation_train_subset.columns)"
   ]
  },
  {
   "cell_type": "markdown",
   "id": "bdcdb663",
   "metadata": {},
   "source": [
    "# Model Training settings"
   ]
  },
  {
   "cell_type": "code",
   "execution_count": 10,
   "id": "a4292003",
   "metadata": {},
   "outputs": [
    {
     "data": {
      "application/vnd.jupyter.widget-view+json": {
       "model_id": "2f574076a85e4e258dac889a518048e6",
       "version_major": 2,
       "version_minor": 0
      },
      "text/plain": [
       "Batches:   0%|          | 0/84 [00:00<?, ?it/s]"
      ]
     },
     "metadata": {},
     "output_type": "display_data"
    },
    {
     "data": {
      "application/vnd.jupyter.widget-view+json": {
       "model_id": "5cd435b62a7c465695c8a8417ba4565f",
       "version_major": 2,
       "version_minor": 0
      },
      "text/plain": [
       "Batches:   0%|          | 0/16 [00:00<?, ?it/s]"
      ]
     },
     "metadata": {},
     "output_type": "display_data"
    },
    {
     "data": {
      "text/plain": [
       "{'eval_valid/roc_auc': 0.7680990833089902,\n",
       " 'eval_valid/average_precision': 0.4821933667885799,\n",
       " 'eval_valid/f1_score': 0.44631901840490795,\n",
       " 'eval_valid/precision': 0.36014851485148514,\n",
       " 'eval_valid/recall': 0.5866935483870968,\n",
       " 'eval_valid/accuracy': 0.7435168738898756,\n",
       " 'eval_valid/best_hit1': 0.7157258064516129,\n",
       " 'eval_valid/best_hit3': 0.8487903225806451,\n",
       " 'eval_valid/best_hit5': 0.9153225806451613,\n",
       " 'eval_valid/best_hit10': 1.0,\n",
       " 'eval_valid/best_hit20': 1.0,\n",
       " 'eval_valid/best_hit50': 1.0,\n",
       " 'eval_valid/best_hit100': 1.0,\n",
       " 'eval_valid/best_reciprocal_rank': 0.802284946236559,\n",
       " 'eval_valid/worst_hit1': 0.7157258064516129,\n",
       " 'eval_valid/worst_hit3': 0.8487903225806451,\n",
       " 'eval_valid/worst_hit5': 0.9153225806451613,\n",
       " 'eval_valid/worst_hit10': 1.0,\n",
       " 'eval_valid/worst_hit20': 1.0,\n",
       " 'eval_valid/worst_hit50': 1.0,\n",
       " 'eval_valid/worst_hit100': 1.0,\n",
       " 'eval_valid/worst_reciprocal_rank': 0.802284946236559}"
      ]
     },
     "execution_count": 10,
     "metadata": {},
     "output_type": "execute_result"
    }
   ],
   "source": [
    "from sentence_transformers.evaluation import SentenceEvaluator\n",
    "# Create a custom evaluator using your existing evaluation function\n",
    "class CustomMRREvaluator(SentenceEvaluator):\n",
    "    def __init__(self, validation_data, name=\"custom_eval\"):\n",
    "        self.validation_data = validation_data\n",
    "        self.name = name\n",
    "        \n",
    "    def __call__(self, model, output_path=None, epoch=None, steps=None):\n",
    "        # Use your existing evaluation function\n",
    "        eval_results = evaluate_embedding_similarity_with_mrr(model, self.validation_data)\n",
    "        \n",
    "        # Return the main metric (MRR) for model selection\n",
    "        eval_results = {f\"{self.name}/{k}\": v for k, v in eval_results.items()}\n",
    "        return eval_results\n",
    "    \n",
    "\n",
    "# Create custom evaluator using your existing function\n",
    "evaluator_valid = CustomMRREvaluator(condition_matching_valid, name=\"eval_valid\")\n",
    "evaluator_train_matching = CustomMRREvaluator(condition_matching_train_subset, name=\"train_matching\")\n",
    "evaluator_train_relation = CustomMRREvaluator(condition_relation_train_subset, name=\"train_relation\")\n",
    "\n",
    "evaluator_valid(model)"
   ]
  },
  {
   "cell_type": "code",
   "execution_count": 11,
   "id": "068c3857",
   "metadata": {},
   "outputs": [],
   "source": [
    "from sentence_transformers import SentenceTransformerTrainer, SentenceTransformerTrainingArguments\n",
    "\n",
    "max_saves = 4\n",
    "\n",
    "epoch_num = 10\n",
    "batch_size = 256\n",
    "\n",
    "wandb_report_steps = 256\n",
    "arg_eval_steps = 2048\n",
    "arg_saving_steps = arg_eval_steps * 2\n",
    "\n",
    "learning_rate = 2e-5\n",
    "\n",
    "\n",
    "loss_func = losses.TripletLoss(model=model)\n",
    "optimizer = AdamW(model.parameters(), lr=learning_rate)\n",
    "\n",
    "\n",
    "# Create training arguments equivalent to your custom training loop\n",
    "training_args = SentenceTransformerTrainingArguments(\n",
    "    output_dir=output_dir,\n",
    "    num_train_epochs=epoch_num,\n",
    "    per_device_train_batch_size=batch_size,\n",
    "    per_device_eval_batch_size=batch_size,\n",
    "    warmup_ratio=0.1,\n",
    "    fp16=False,\n",
    "    bf16=False,\n",
    "    learning_rate=learning_rate,\n",
    "    eval_strategy=\"steps\",\n",
    "    eval_steps=arg_eval_steps,\n",
    "    save_strategy=\"steps\",\n",
    "    save_steps=arg_saving_steps,\n",
    "    save_total_limit=max_saves,\n",
    "    logging_steps=wandb_report_steps,\n",
    "    run_name=output_dir,\n",
    "    seed=seed,\n",
    "    data_seed=seed,\n",
    "    report_to=\"wandb\" if not args.test_mode else \"none\",\n",
    "    remove_unused_columns=False,\n",
    "    dataloader_drop_last=False,\n",
    "    dataloader_num_workers=0,  # Avoid multiprocessing issues on Windows\n",
    "    metric_for_best_model=\"eval_valid/roc_auc\",\n",
    "    greater_is_better=True,\n",
    "    load_best_model_at_end=True,\n",
    ")\n",
    "\n"
   ]
  },
  {
   "cell_type": "code",
   "execution_count": 12,
   "id": "733a579d",
   "metadata": {},
   "outputs": [
    {
     "data": {
      "application/vnd.jupyter.widget-view+json": {
       "model_id": "05972fecd557455998655dfbc5719ed5",
       "version_major": 2,
       "version_minor": 0
      },
      "text/plain": [
       "Computing widget examples:   0%|          | 0/1 [00:00<?, ?example/s]"
      ]
     },
     "metadata": {},
     "output_type": "display_data"
    },
    {
     "name": "stderr",
     "output_type": "stream",
     "text": [
      "2025-10-01 23:30:57 - Starting SentenceTransformer training. Model saved to: output/finetune_posaware/2025-10-01_23-23-45 (Elapsed: 432.34s, Since last: 2.81s)\n",
      "\u001b[34m\u001b[1mwandb\u001b[0m: \u001b[33mWARNING\u001b[0m The `run_name` is currently set to the same value as `TrainingArguments.output_dir`. If this was not intended, please specify a different run name by setting the `TrainingArguments.run_name` parameter.\n",
      "wandb: Currently logged in as: szwjf08 (szwjf08-utmb) to https://api.wandb.ai. Use `wandb login --relogin` to force relogin\n"
     ]
    },
    {
     "data": {
      "text/html": [
       "Tracking run with wandb version 0.21.0"
      ],
      "text/plain": [
       "<IPython.core.display.HTML object>"
      ]
     },
     "metadata": {},
     "output_type": "display_data"
    },
    {
     "data": {
      "text/html": [
       "Run data is saved locally in <code>c:\\Users\\jiewang\\OneDrive - University of Texas Medical Branch\\grant\\DMAC\\software\\concept_mapping\\wandb\\run-20251001_233058-6lo0wikz</code>"
      ],
      "text/plain": [
       "<IPython.core.display.HTML object>"
      ]
     },
     "metadata": {},
     "output_type": "display_data"
    },
    {
     "data": {
      "text/html": [
       "Syncing run <strong><a href='https://wandb.ai/szwjf08-utmb/sentence-transformers/runs/6lo0wikz' target=\"_blank\">output/finetune_posaware/2025-10-01_23-23-45</a></strong> to <a href='https://wandb.ai/szwjf08-utmb/sentence-transformers' target=\"_blank\">Weights & Biases</a> (<a href='https://wandb.me/developer-guide' target=\"_blank\">docs</a>)<br>"
      ],
      "text/plain": [
       "<IPython.core.display.HTML object>"
      ]
     },
     "metadata": {},
     "output_type": "display_data"
    },
    {
     "data": {
      "text/html": [
       " View project at <a href='https://wandb.ai/szwjf08-utmb/sentence-transformers' target=\"_blank\">https://wandb.ai/szwjf08-utmb/sentence-transformers</a>"
      ],
      "text/plain": [
       "<IPython.core.display.HTML object>"
      ]
     },
     "metadata": {},
     "output_type": "display_data"
    },
    {
     "data": {
      "text/html": [
       " View run at <a href='https://wandb.ai/szwjf08-utmb/sentence-transformers/runs/6lo0wikz' target=\"_blank\">https://wandb.ai/szwjf08-utmb/sentence-transformers/runs/6lo0wikz</a>"
      ],
      "text/plain": [
       "<IPython.core.display.HTML object>"
      ]
     },
     "metadata": {},
     "output_type": "display_data"
    },
    {
     "data": {
      "application/vnd.jupyter.widget-view+json": {
       "model_id": "a60979cd4f644f458541c55fdecc098b",
       "version_major": 2,
       "version_minor": 0
      },
      "text/plain": [
       "  0%|          | 0/32530 [00:00<?, ?it/s]"
      ]
     },
     "metadata": {},
     "output_type": "display_data"
    },
    {
     "name": "stdout",
     "output_type": "stream",
     "text": [
      "{'loss': 5.1504, 'grad_norm': 0.9686791300773621, 'learning_rate': 1.5739317553027975e-06, 'epoch': 0.08}\n",
      "{'loss': 4.8542, 'grad_norm': 0.9927756786346436, 'learning_rate': 3.147863510605595e-06, 'epoch': 0.16}\n",
      "{'loss': 4.6768, 'grad_norm': 4.178518772125244, 'learning_rate': 4.721795265908392e-06, 'epoch': 0.24}\n",
      "{'loss': 4.5962, 'grad_norm': 4.067861557006836, 'learning_rate': 6.29572702121119e-06, 'epoch': 0.31}\n",
      "{'loss': 4.5725, 'grad_norm': 4.412888526916504, 'learning_rate': 7.869658776513987e-06, 'epoch': 0.39}\n",
      "{'loss': 4.5584, 'grad_norm': 9.086004257202148, 'learning_rate': 9.443590531816785e-06, 'epoch': 0.47}\n",
      "{'loss': 4.5384, 'grad_norm': 2.9517104625701904, 'learning_rate': 1.1017522287119582e-05, 'epoch': 0.55}\n",
      "{'loss': 4.5402, 'grad_norm': 10.846002578735352, 'learning_rate': 1.259145404242238e-05, 'epoch': 0.63}\n"
     ]
    },
    {
     "data": {
      "application/vnd.jupyter.widget-view+json": {
       "model_id": "5f1445deb1b643c081623bbc5d3de99c",
       "version_major": 2,
       "version_minor": 0
      },
      "text/plain": [
       "Batches:   0%|          | 0/84 [00:00<?, ?it/s]"
      ]
     },
     "metadata": {},
     "output_type": "display_data"
    },
    {
     "data": {
      "application/vnd.jupyter.widget-view+json": {
       "model_id": "f726aecfeb014fae854d708a13e06551",
       "version_major": 2,
       "version_minor": 0
      },
      "text/plain": [
       "Batches:   0%|          | 0/16 [00:00<?, ?it/s]"
      ]
     },
     "metadata": {},
     "output_type": "display_data"
    },
    {
     "data": {
      "application/vnd.jupyter.widget-view+json": {
       "model_id": "a8e7d88f6f424555b115bb57927fb08d",
       "version_major": 2,
       "version_minor": 0
      },
      "text/plain": [
       "Batches:   0%|          | 0/86 [00:00<?, ?it/s]"
      ]
     },
     "metadata": {},
     "output_type": "display_data"
    },
    {
     "data": {
      "application/vnd.jupyter.widget-view+json": {
       "model_id": "748ef7144d624b568dfbef9c7e02ddc8",
       "version_major": 2,
       "version_minor": 0
      },
      "text/plain": [
       "Batches:   0%|          | 0/16 [00:00<?, ?it/s]"
      ]
     },
     "metadata": {},
     "output_type": "display_data"
    },
    {
     "data": {
      "application/vnd.jupyter.widget-view+json": {
       "model_id": "379610e771e14f0ab44980cbf04a5ac9",
       "version_major": 2,
       "version_minor": 0
      },
      "text/plain": [
       "Batches:   0%|          | 0/103 [00:00<?, ?it/s]"
      ]
     },
     "metadata": {},
     "output_type": "display_data"
    },
    {
     "data": {
      "application/vnd.jupyter.widget-view+json": {
       "model_id": "7900579b8114443c9ab7c09126699f9b",
       "version_major": 2,
       "version_minor": 0
      },
      "text/plain": [
       "Batches:   0%|          | 0/16 [00:00<?, ?it/s]"
      ]
     },
     "metadata": {},
     "output_type": "display_data"
    },
    {
     "name": "stdout",
     "output_type": "stream",
     "text": [
      "{'eval_valid/roc_auc': 0.5988690029072598, 'eval_valid/average_precision': 0.28277655711638866, 'eval_valid/f1_score': 0.2986894239561109, 'eval_valid/precision': 0.17594254937163376, 'eval_valid/recall': 0.9879032258064516, 'eval_valid/accuracy': 0.18259325044404973, 'eval_valid/best_hit1': 0.4838709677419355, 'eval_valid/best_hit3': 0.6794354838709677, 'eval_valid/best_hit5': 0.8387096774193549, 'eval_valid/best_hit10': 1.0, 'eval_valid/best_hit20': 1.0, 'eval_valid/best_hit50': 1.0, 'eval_valid/best_hit100': 1.0, 'eval_valid/best_reciprocal_rank': 0.6285954301075268, 'eval_valid/worst_hit1': 0.4838709677419355, 'eval_valid/worst_hit3': 0.6794354838709677, 'eval_valid/worst_hit5': 0.8387096774193549, 'eval_valid/worst_hit10': 1.0, 'eval_valid/worst_hit20': 1.0, 'eval_valid/worst_hit50': 1.0, 'eval_valid/worst_hit100': 1.0, 'eval_valid/worst_reciprocal_rank': 0.6285954301075268, 'eval_train_matching/roc_auc': 0.5122178385447835, 'eval_train_matching/average_precision': 0.21762688477179867, 'eval_train_matching/f1_score': 0.3108108108108108, 'eval_train_matching/precision': 0.1985611510791367, 'eval_train_matching/recall': 0.7150259067357513, 'eval_train_matching/accuracy': 0.37972972972972974, 'eval_train_matching/best_hit1': 0.314, 'eval_train_matching/best_hit3': 0.528, 'eval_train_matching/best_hit5': 0.746, 'eval_train_matching/best_hit10': 1.0, 'eval_train_matching/best_hit20': 1.0, 'eval_train_matching/best_hit50': 1.0, 'eval_train_matching/best_hit100': 1.0, 'eval_train_matching/best_reciprocal_rank': 0.49573333333333336, 'eval_train_matching/worst_hit1': 0.284, 'eval_train_matching/worst_hit3': 0.488, 'eval_train_matching/worst_hit5': 0.684, 'eval_train_matching/worst_hit10': 1.0, 'eval_train_matching/worst_hit20': 1.0, 'eval_train_matching/worst_hit50': 1.0, 'eval_train_matching/worst_hit100': 1.0, 'eval_train_matching/worst_reciprocal_rank': 0.46446190476190474, 'eval_train_relation/roc_auc': 0.4486075522729063, 'eval_train_relation/average_precision': 0.5680097058987414, 'eval_train_relation/f1_score': 0.5385221364424138, 'eval_train_relation/precision': 0.586076817558299, 'eval_train_relation/recall': 0.49810550859807634, 'eval_train_relation/accuracy': 0.47139505504421586, 'eval_train_relation/best_hit1': 0.456, 'eval_train_relation/best_hit3': 0.738, 'eval_train_relation/best_hit5': 0.9, 'eval_train_relation/best_hit10': 1.0, 'eval_train_relation/best_hit20': 1.0, 'eval_train_relation/best_hit50': 1.0, 'eval_train_relation/best_hit100': 1.0, 'eval_train_relation/best_reciprocal_rank': 0.6346333333333333, 'eval_train_relation/worst_hit1': 0.0, 'eval_train_relation/worst_hit3': 0.042, 'eval_train_relation/worst_hit5': 0.124, 'eval_train_relation/worst_hit10': 0.58, 'eval_train_relation/worst_hit20': 0.968, 'eval_train_relation/worst_hit50': 1.0, 'eval_train_relation/worst_hit100': 1.0, 'eval_train_relation/worst_reciprocal_rank': 0.12543993981254684, 'eval_sequential_score': 0.4486075522729063, 'eval_runtime': 3.9654, 'eval_samples_per_second': 0.0, 'eval_steps_per_second': 0.0, 'epoch': 0.63}\n",
      "{'loss': 4.5441, 'grad_norm': 7.662739276885986, 'learning_rate': 1.4165385797725178e-05, 'epoch': 0.71}\n",
      "{'loss': 4.5433, 'grad_norm': 7.732333660125732, 'learning_rate': 1.5739317553027974e-05, 'epoch': 0.79}\n",
      "{'loss': 4.5341, 'grad_norm': 8.179112434387207, 'learning_rate': 1.7313249308330773e-05, 'epoch': 0.87}\n",
      "{'loss': 4.538, 'grad_norm': 3.3636059761047363, 'learning_rate': 1.888718106363357e-05, 'epoch': 0.94}\n",
      "{'loss': 4.5221, 'grad_norm': 3.917555093765259, 'learning_rate': 1.9948765242340404e-05, 'epoch': 1.02}\n",
      "{'loss': 4.5319, 'grad_norm': 1.550116777420044, 'learning_rate': 1.977388393619565e-05, 'epoch': 1.1}\n",
      "{'loss': 4.5077, 'grad_norm': 3.575209140777588, 'learning_rate': 1.9599002630050894e-05, 'epoch': 1.18}\n",
      "{'loss': 4.5084, 'grad_norm': 9.87740707397461, 'learning_rate': 1.942412132390614e-05, 'epoch': 1.26}\n"
     ]
    },
    {
     "data": {
      "application/vnd.jupyter.widget-view+json": {
       "model_id": "6ed6f731afc94dabb34a470d02f4e0dc",
       "version_major": 2,
       "version_minor": 0
      },
      "text/plain": [
       "Batches:   0%|          | 0/84 [00:00<?, ?it/s]"
      ]
     },
     "metadata": {},
     "output_type": "display_data"
    },
    {
     "data": {
      "application/vnd.jupyter.widget-view+json": {
       "model_id": "35e557e4dfc1467594017e23ac1bac69",
       "version_major": 2,
       "version_minor": 0
      },
      "text/plain": [
       "Batches:   0%|          | 0/16 [00:00<?, ?it/s]"
      ]
     },
     "metadata": {},
     "output_type": "display_data"
    },
    {
     "data": {
      "application/vnd.jupyter.widget-view+json": {
       "model_id": "a76adc2bf43d41c499342d8e381c9427",
       "version_major": 2,
       "version_minor": 0
      },
      "text/plain": [
       "Batches:   0%|          | 0/86 [00:00<?, ?it/s]"
      ]
     },
     "metadata": {},
     "output_type": "display_data"
    },
    {
     "data": {
      "application/vnd.jupyter.widget-view+json": {
       "model_id": "8090f7661c224f69aaa407f6a37b3344",
       "version_major": 2,
       "version_minor": 0
      },
      "text/plain": [
       "Batches:   0%|          | 0/16 [00:00<?, ?it/s]"
      ]
     },
     "metadata": {},
     "output_type": "display_data"
    },
    {
     "data": {
      "application/vnd.jupyter.widget-view+json": {
       "model_id": "4dcfc8412b9c405b821565b6325319ca",
       "version_major": 2,
       "version_minor": 0
      },
      "text/plain": [
       "Batches:   0%|          | 0/103 [00:00<?, ?it/s]"
      ]
     },
     "metadata": {},
     "output_type": "display_data"
    },
    {
     "data": {
      "application/vnd.jupyter.widget-view+json": {
       "model_id": "03f81f2c36bd42568de6f557bb84e47e",
       "version_major": 2,
       "version_minor": 0
      },
      "text/plain": [
       "Batches:   0%|          | 0/16 [00:00<?, ?it/s]"
      ]
     },
     "metadata": {},
     "output_type": "display_data"
    },
    {
     "name": "stdout",
     "output_type": "stream",
     "text": [
      "{'eval_valid/roc_auc': 0.6014419799969397, 'eval_valid/average_precision': 0.2840152133234858, 'eval_valid/f1_score': 0.30110837438423643, 'eval_valid/precision': 0.1776889534883721, 'eval_valid/recall': 0.9858870967741935, 'eval_valid/accuracy': 0.1936056838365897, 'eval_valid/best_hit1': 0.4737903225806452, 'eval_valid/best_hit3': 0.6713709677419355, 'eval_valid/best_hit5': 0.8528225806451613, 'eval_valid/best_hit10': 1.0, 'eval_valid/best_hit20': 1.0, 'eval_valid/best_hit50': 1.0, 'eval_valid/best_hit100': 1.0, 'eval_valid/best_reciprocal_rank': 0.6256720430107526, 'eval_valid/worst_hit1': 0.4737903225806452, 'eval_valid/worst_hit3': 0.6713709677419355, 'eval_valid/worst_hit5': 0.8528225806451613, 'eval_valid/worst_hit10': 1.0, 'eval_valid/worst_hit20': 1.0, 'eval_valid/worst_hit50': 1.0, 'eval_valid/worst_hit100': 1.0, 'eval_valid/worst_reciprocal_rank': 0.6256720430107526, 'eval_train_matching/roc_auc': 0.511124699785797, 'eval_train_matching/average_precision': 0.21872650935921836, 'eval_train_matching/f1_score': 0.302960399846213, 'eval_train_matching/precision': 0.19485657764589515, 'eval_train_matching/recall': 0.6804835924006909, 'eval_train_matching/accuracy': 0.3875, 'eval_train_matching/best_hit1': 0.318, 'eval_train_matching/best_hit3': 0.534, 'eval_train_matching/best_hit5': 0.744, 'eval_train_matching/best_hit10': 1.0, 'eval_train_matching/best_hit20': 1.0, 'eval_train_matching/best_hit50': 1.0, 'eval_train_matching/best_hit100': 1.0, 'eval_train_matching/best_reciprocal_rank': 0.4978333333333333, 'eval_train_matching/worst_hit1': 0.272, 'eval_train_matching/worst_hit3': 0.488, 'eval_train_matching/worst_hit5': 0.688, 'eval_train_matching/worst_hit10': 1.0, 'eval_train_matching/worst_hit20': 1.0, 'eval_train_matching/worst_hit50': 1.0, 'eval_train_matching/worst_hit100': 1.0, 'eval_train_matching/worst_reciprocal_rank': 0.4583928571428571, 'eval_train_relation/roc_auc': 0.4482230596139741, 'eval_train_relation/average_precision': 0.5582664745105408, 'eval_train_relation/f1_score': 0.6327323162274618, 'eval_train_relation/precision': 0.6035988356708124, 'eval_train_relation/recall': 0.6648207519673565, 'eval_train_relation/accuracy': 0.522107922757625, 'eval_train_relation/best_hit1': 0.42, 'eval_train_relation/best_hit3': 0.74, 'eval_train_relation/best_hit5': 0.896, 'eval_train_relation/best_hit10': 1.0, 'eval_train_relation/best_hit20': 1.0, 'eval_train_relation/best_hit50': 1.0, 'eval_train_relation/best_hit100': 1.0, 'eval_train_relation/best_reciprocal_rank': 0.6099, 'eval_train_relation/worst_hit1': 0.0, 'eval_train_relation/worst_hit3': 0.04, 'eval_train_relation/worst_hit5': 0.116, 'eval_train_relation/worst_hit10': 0.586, 'eval_train_relation/worst_hit20': 0.968, 'eval_train_relation/worst_hit50': 1.0, 'eval_train_relation/worst_hit100': 1.0, 'eval_train_relation/worst_reciprocal_rank': 0.12313971586982288, 'eval_sequential_score': 0.4482230596139741, 'eval_runtime': 3.6505, 'eval_samples_per_second': 0.0, 'eval_steps_per_second': 0.0, 'epoch': 1.26}\n"
     ]
    },
    {
     "name": "stderr",
     "output_type": "stream",
     "text": [
      "2025-10-01 23:53:35 - Saving model checkpoint to output/finetune_posaware/2025-10-01_23-23-45\\checkpoint-4096\n",
      "2025-10-01 23:53:35 - Save model to output/finetune_posaware/2025-10-01_23-23-45\\checkpoint-4096\n"
     ]
    },
    {
     "name": "stdout",
     "output_type": "stream",
     "text": [
      "{'loss': 4.4992, 'grad_norm': 16.244583129882812, 'learning_rate': 1.9249240017761384e-05, 'epoch': 1.34}\n",
      "{'loss': 4.5012, 'grad_norm': 2.0901753902435303, 'learning_rate': 1.907435871161663e-05, 'epoch': 1.42}\n",
      "{'loss': 4.4908, 'grad_norm': 3.643897533416748, 'learning_rate': 1.8899477405471875e-05, 'epoch': 1.5}\n",
      "{'loss': 4.4897, 'grad_norm': 3.310713768005371, 'learning_rate': 1.8724596099327118e-05, 'epoch': 1.57}\n",
      "{'loss': 4.4898, 'grad_norm': 2.1379456520080566, 'learning_rate': 1.854971479318236e-05, 'epoch': 1.65}\n",
      "{'loss': 4.4907, 'grad_norm': 4.724156856536865, 'learning_rate': 1.8374833487037608e-05, 'epoch': 1.73}\n",
      "{'loss': 4.4856, 'grad_norm': 16.03271484375, 'learning_rate': 1.819995218089285e-05, 'epoch': 1.81}\n",
      "{'loss': 4.489, 'grad_norm': 15.617560386657715, 'learning_rate': 1.8025070874748095e-05, 'epoch': 1.89}\n"
     ]
    },
    {
     "data": {
      "application/vnd.jupyter.widget-view+json": {
       "model_id": "697e96a0876b4118b8a8bc1d3dcd1058",
       "version_major": 2,
       "version_minor": 0
      },
      "text/plain": [
       "Batches:   0%|          | 0/84 [00:00<?, ?it/s]"
      ]
     },
     "metadata": {},
     "output_type": "display_data"
    },
    {
     "data": {
      "application/vnd.jupyter.widget-view+json": {
       "model_id": "e795e0e1745d4b3f8f0bff57c0fba6e7",
       "version_major": 2,
       "version_minor": 0
      },
      "text/plain": [
       "Batches:   0%|          | 0/16 [00:00<?, ?it/s]"
      ]
     },
     "metadata": {},
     "output_type": "display_data"
    },
    {
     "data": {
      "application/vnd.jupyter.widget-view+json": {
       "model_id": "dd18c971ad5e49cbb34f0540637a61fb",
       "version_major": 2,
       "version_minor": 0
      },
      "text/plain": [
       "Batches:   0%|          | 0/86 [00:00<?, ?it/s]"
      ]
     },
     "metadata": {},
     "output_type": "display_data"
    },
    {
     "data": {
      "application/vnd.jupyter.widget-view+json": {
       "model_id": "8057f6640e9a4d50992db29fbe3eae21",
       "version_major": 2,
       "version_minor": 0
      },
      "text/plain": [
       "Batches:   0%|          | 0/16 [00:00<?, ?it/s]"
      ]
     },
     "metadata": {},
     "output_type": "display_data"
    },
    {
     "data": {
      "application/vnd.jupyter.widget-view+json": {
       "model_id": "a16de1e9f7b641dbb1840689fa12f257",
       "version_major": 2,
       "version_minor": 0
      },
      "text/plain": [
       "Batches:   0%|          | 0/103 [00:00<?, ?it/s]"
      ]
     },
     "metadata": {},
     "output_type": "display_data"
    },
    {
     "data": {
      "application/vnd.jupyter.widget-view+json": {
       "model_id": "81faef910ad84f71bf486c35167e9cff",
       "version_major": 2,
       "version_minor": 0
      },
      "text/plain": [
       "Batches:   0%|          | 0/16 [00:00<?, ?it/s]"
      ]
     },
     "metadata": {},
     "output_type": "display_data"
    },
    {
     "name": "stdout",
     "output_type": "stream",
     "text": [
      "{'eval_valid/roc_auc': 0.5853190335099946, 'eval_valid/average_precision': 0.271344363818154, 'eval_valid/f1_score': 0.3008631319358816, 'eval_valid/precision': 0.17758369723435224, 'eval_valid/recall': 0.9838709677419355, 'eval_valid/accuracy': 0.19431616341030195, 'eval_valid/best_hit1': 0.4415322580645161, 'eval_valid/best_hit3': 0.6391129032258065, 'eval_valid/best_hit5': 0.842741935483871, 'eval_valid/best_hit10': 1.0, 'eval_valid/best_hit20': 1.0, 'eval_valid/best_hit50': 1.0, 'eval_valid/best_hit100': 1.0, 'eval_valid/best_reciprocal_rank': 0.5984879032258065, 'eval_valid/worst_hit1': 0.4415322580645161, 'eval_valid/worst_hit3': 0.6391129032258065, 'eval_valid/worst_hit5': 0.842741935483871, 'eval_valid/worst_hit10': 1.0, 'eval_valid/worst_hit20': 1.0, 'eval_valid/worst_hit50': 1.0, 'eval_valid/worst_hit100': 1.0, 'eval_valid/worst_reciprocal_rank': 0.5984879032258065, 'eval_train_matching/roc_auc': 0.5108011829400718, 'eval_train_matching/average_precision': 0.21845464230080827, 'eval_train_matching/f1_score': 0.3045171339563863, 'eval_train_matching/precision': 0.19658119658119658, 'eval_train_matching/recall': 0.6753022452504318, 'eval_train_matching/accuracy': 0.3966216216216216, 'eval_train_matching/best_hit1': 0.348, 'eval_train_matching/best_hit3': 0.564, 'eval_train_matching/best_hit5': 0.766, 'eval_train_matching/best_hit10': 1.0, 'eval_train_matching/best_hit20': 1.0, 'eval_train_matching/best_hit50': 1.0, 'eval_train_matching/best_hit100': 1.0, 'eval_train_matching/best_reciprocal_rank': 0.5245, 'eval_train_matching/worst_hit1': 0.294, 'eval_train_matching/worst_hit3': 0.522, 'eval_train_matching/worst_hit5': 0.71, 'eval_train_matching/worst_hit10': 1.0, 'eval_train_matching/worst_hit20': 1.0, 'eval_train_matching/worst_hit50': 1.0, 'eval_train_matching/worst_hit100': 1.0, 'eval_train_matching/worst_reciprocal_rank': 0.4814428571428572, 'eval_train_relation/roc_auc': 0.4532060623724862, 'eval_train_relation/average_precision': 0.5626109855943308, 'eval_train_relation/f1_score': 0.5267784470128601, 'eval_train_relation/precision': 0.5966076696165191, 'eval_train_relation/recall': 0.47158262897114545, 'eval_train_relation/accuracy': 0.47536545749864645, 'eval_train_relation/best_hit1': 0.392, 'eval_train_relation/best_hit3': 0.732, 'eval_train_relation/best_hit5': 0.88, 'eval_train_relation/best_hit10': 1.0, 'eval_train_relation/best_hit20': 1.0, 'eval_train_relation/best_hit50': 1.0, 'eval_train_relation/best_hit100': 1.0, 'eval_train_relation/best_reciprocal_rank': 0.5922999999999999, 'eval_train_relation/worst_hit1': 0.0, 'eval_train_relation/worst_hit3': 0.034, 'eval_train_relation/worst_hit5': 0.122, 'eval_train_relation/worst_hit10': 0.574, 'eval_train_relation/worst_hit20': 0.968, 'eval_train_relation/worst_hit50': 1.0, 'eval_train_relation/worst_hit100': 1.0, 'eval_train_relation/worst_reciprocal_rank': 0.12022083498589624, 'eval_sequential_score': 0.4532060623724862, 'eval_runtime': 3.9691, 'eval_samples_per_second': 0.0, 'eval_steps_per_second': 0.0, 'epoch': 1.89}\n",
      "{'loss': 4.4791, 'grad_norm': 32.324424743652344, 'learning_rate': 1.785018956860334e-05, 'epoch': 1.97}\n",
      "{'loss': 4.4731, 'grad_norm': 10.478784561157227, 'learning_rate': 1.7675308262458585e-05, 'epoch': 2.05}\n",
      "{'loss': 4.482, 'grad_norm': 10.87570571899414, 'learning_rate': 1.7500426956313832e-05, 'epoch': 2.12}\n",
      "{'loss': 4.4736, 'grad_norm': 8.889533996582031, 'learning_rate': 1.7325545650169075e-05, 'epoch': 2.2}\n",
      "{'loss': 4.4696, 'grad_norm': 12.269754409790039, 'learning_rate': 1.7150664344024322e-05, 'epoch': 2.28}\n",
      "{'loss': 4.4622, 'grad_norm': 3.9489917755126953, 'learning_rate': 1.6975783037879565e-05, 'epoch': 2.36}\n",
      "{'loss': 4.4565, 'grad_norm': 12.034411430358887, 'learning_rate': 1.6800901731734812e-05, 'epoch': 2.44}\n",
      "{'loss': 4.4572, 'grad_norm': 15.691716194152832, 'learning_rate': 1.6626020425590055e-05, 'epoch': 2.52}\n"
     ]
    },
    {
     "data": {
      "application/vnd.jupyter.widget-view+json": {
       "model_id": "977ebab155ce4239b4071e2358d99bc5",
       "version_major": 2,
       "version_minor": 0
      },
      "text/plain": [
       "Batches:   0%|          | 0/84 [00:00<?, ?it/s]"
      ]
     },
     "metadata": {},
     "output_type": "display_data"
    },
    {
     "data": {
      "application/vnd.jupyter.widget-view+json": {
       "model_id": "6596eb7dac444d09b6dc5eb0837f58de",
       "version_major": 2,
       "version_minor": 0
      },
      "text/plain": [
       "Batches:   0%|          | 0/16 [00:00<?, ?it/s]"
      ]
     },
     "metadata": {},
     "output_type": "display_data"
    },
    {
     "data": {
      "application/vnd.jupyter.widget-view+json": {
       "model_id": "77b0f07286f9421c928d2cf4e41fa19d",
       "version_major": 2,
       "version_minor": 0
      },
      "text/plain": [
       "Batches:   0%|          | 0/86 [00:00<?, ?it/s]"
      ]
     },
     "metadata": {},
     "output_type": "display_data"
    },
    {
     "data": {
      "application/vnd.jupyter.widget-view+json": {
       "model_id": "f4776b46bd7b481d83385c5841793e32",
       "version_major": 2,
       "version_minor": 0
      },
      "text/plain": [
       "Batches:   0%|          | 0/16 [00:00<?, ?it/s]"
      ]
     },
     "metadata": {},
     "output_type": "display_data"
    },
    {
     "data": {
      "application/vnd.jupyter.widget-view+json": {
       "model_id": "6b062f7e47484159b4f3f97e0cf1c3b2",
       "version_major": 2,
       "version_minor": 0
      },
      "text/plain": [
       "Batches:   0%|          | 0/103 [00:00<?, ?it/s]"
      ]
     },
     "metadata": {},
     "output_type": "display_data"
    },
    {
     "data": {
      "application/vnd.jupyter.widget-view+json": {
       "model_id": "65f18d70238e40a29f51b1f32fbb31a9",
       "version_major": 2,
       "version_minor": 0
      },
      "text/plain": [
       "Batches:   0%|          | 0/16 [00:00<?, ?it/s]"
      ]
     },
     "metadata": {},
     "output_type": "display_data"
    },
    {
     "name": "stdout",
     "output_type": "stream",
     "text": [
      "{'eval_valid/roc_auc': 0.5921811751450152, 'eval_valid/average_precision': 0.2749635145247202, 'eval_valid/f1_score': 0.2992946948788715, 'eval_valid/precision': 0.17649186256781194, 'eval_valid/recall': 0.9838709677419355, 'eval_valid/accuracy': 0.1882770870337478, 'eval_valid/best_hit1': 0.46774193548387094, 'eval_valid/best_hit3': 0.6612903225806451, 'eval_valid/best_hit5': 0.8407258064516129, 'eval_valid/best_hit10': 1.0, 'eval_valid/best_hit20': 1.0, 'eval_valid/best_hit50': 1.0, 'eval_valid/best_hit100': 1.0, 'eval_valid/best_reciprocal_rank': 0.6185147849462365, 'eval_valid/worst_hit1': 0.46774193548387094, 'eval_valid/worst_hit3': 0.6612903225806451, 'eval_valid/worst_hit5': 0.8407258064516129, 'eval_valid/worst_hit10': 1.0, 'eval_valid/worst_hit20': 1.0, 'eval_valid/worst_hit50': 1.0, 'eval_valid/worst_hit100': 1.0, 'eval_valid/worst_reciprocal_rank': 0.6185147849462365, 'eval_train_matching/roc_auc': 0.5216542301278326, 'eval_train_matching/average_precision': 0.22467591562173236, 'eval_train_matching/f1_score': 0.30329153605015674, 'eval_train_matching/precision': 0.19614799797263052, 'eval_train_matching/recall': 0.6683937823834197, 'eval_train_matching/accuracy': 0.3993243243243243, 'eval_train_matching/best_hit1': 0.354, 'eval_train_matching/best_hit3': 0.614, 'eval_train_matching/best_hit5': 0.812, 'eval_train_matching/best_hit10': 1.0, 'eval_train_matching/best_hit20': 1.0, 'eval_train_matching/best_hit50': 1.0, 'eval_train_matching/best_hit100': 1.0, 'eval_train_matching/best_reciprocal_rank': 0.541, 'eval_train_matching/worst_hit1': 0.31, 'eval_train_matching/worst_hit3': 0.572, 'eval_train_matching/worst_hit5': 0.744, 'eval_train_matching/worst_hit10': 1.0, 'eval_train_matching/worst_hit20': 1.0, 'eval_train_matching/worst_hit50': 1.0, 'eval_train_matching/worst_hit100': 1.0, 'eval_train_matching/worst_reciprocal_rank': 0.5025666666666667, 'eval_train_relation/roc_auc': 0.45406973772724574, 'eval_train_relation/average_precision': 0.5565875347504975, 'eval_train_relation/f1_score': 0.6297704548655119, 'eval_train_relation/precision': 0.6092643051771117, 'eval_train_relation/recall': 0.6517050422617313, 'eval_train_relation/accuracy': 0.5255369066955423, 'eval_train_relation/best_hit1': 0.398, 'eval_train_relation/best_hit3': 0.74, 'eval_train_relation/best_hit5': 0.89, 'eval_train_relation/best_hit10': 1.0, 'eval_train_relation/best_hit20': 1.0, 'eval_train_relation/best_hit50': 1.0, 'eval_train_relation/best_hit100': 1.0, 'eval_train_relation/best_reciprocal_rank': 0.6025, 'eval_train_relation/worst_hit1': 0.0, 'eval_train_relation/worst_hit3': 0.03, 'eval_train_relation/worst_hit5': 0.12, 'eval_train_relation/worst_hit10': 0.576, 'eval_train_relation/worst_hit20': 0.97, 'eval_train_relation/worst_hit50': 1.0, 'eval_train_relation/worst_hit100': 1.0, 'eval_train_relation/worst_reciprocal_rank': 0.1226704798826863, 'eval_sequential_score': 0.45406973772724574, 'eval_runtime': 3.5787, 'eval_samples_per_second': 0.0, 'eval_steps_per_second': 0.0, 'epoch': 2.52}\n"
     ]
    },
    {
     "name": "stderr",
     "output_type": "stream",
     "text": [
      "2025-10-02 00:16:22 - Saving model checkpoint to output/finetune_posaware/2025-10-01_23-23-45\\checkpoint-8192\n",
      "2025-10-02 00:16:22 - Save model to output/finetune_posaware/2025-10-01_23-23-45\\checkpoint-8192\n"
     ]
    },
    {
     "name": "stdout",
     "output_type": "stream",
     "text": [
      "{'loss': 4.4527, 'grad_norm': 0.9155461192131042, 'learning_rate': 1.6451139119445302e-05, 'epoch': 2.6}\n",
      "{'loss': 4.4538, 'grad_norm': 12.794276237487793, 'learning_rate': 1.6276257813300546e-05, 'epoch': 2.68}\n",
      "{'loss': 4.4664, 'grad_norm': 18.471303939819336, 'learning_rate': 1.610137650715579e-05, 'epoch': 2.75}\n",
      "{'loss': 4.4538, 'grad_norm': 1.2097649574279785, 'learning_rate': 1.5926495201011036e-05, 'epoch': 2.83}\n",
      "{'loss': 4.4376, 'grad_norm': 1.752551555633545, 'learning_rate': 1.575161389486628e-05, 'epoch': 2.91}\n",
      "{'loss': 4.4384, 'grad_norm': 8.452908515930176, 'learning_rate': 1.5576732588721522e-05, 'epoch': 2.99}\n",
      "{'loss': 4.43, 'grad_norm': 13.754725456237793, 'learning_rate': 1.5401851282576766e-05, 'epoch': 3.07}\n",
      "{'loss': 4.4338, 'grad_norm': 28.41629981994629, 'learning_rate': 1.5226969976432013e-05, 'epoch': 3.15}\n"
     ]
    },
    {
     "data": {
      "application/vnd.jupyter.widget-view+json": {
       "model_id": "b2435f359a164adb8eb4c898077b236d",
       "version_major": 2,
       "version_minor": 0
      },
      "text/plain": [
       "Batches:   0%|          | 0/84 [00:00<?, ?it/s]"
      ]
     },
     "metadata": {},
     "output_type": "display_data"
    },
    {
     "data": {
      "application/vnd.jupyter.widget-view+json": {
       "model_id": "0f00f2d3687b4b5b88e8093c0d37c0e4",
       "version_major": 2,
       "version_minor": 0
      },
      "text/plain": [
       "Batches:   0%|          | 0/16 [00:00<?, ?it/s]"
      ]
     },
     "metadata": {},
     "output_type": "display_data"
    },
    {
     "data": {
      "application/vnd.jupyter.widget-view+json": {
       "model_id": "30e93533e9c34c078b6fe04481651325",
       "version_major": 2,
       "version_minor": 0
      },
      "text/plain": [
       "Batches:   0%|          | 0/86 [00:00<?, ?it/s]"
      ]
     },
     "metadata": {},
     "output_type": "display_data"
    },
    {
     "data": {
      "application/vnd.jupyter.widget-view+json": {
       "model_id": "f28a73976867468c90e6a199074a9d26",
       "version_major": 2,
       "version_minor": 0
      },
      "text/plain": [
       "Batches:   0%|          | 0/16 [00:00<?, ?it/s]"
      ]
     },
     "metadata": {},
     "output_type": "display_data"
    },
    {
     "data": {
      "application/vnd.jupyter.widget-view+json": {
       "model_id": "420e2998bf3b41be9648b213b607a822",
       "version_major": 2,
       "version_minor": 0
      },
      "text/plain": [
       "Batches:   0%|          | 0/103 [00:00<?, ?it/s]"
      ]
     },
     "metadata": {},
     "output_type": "display_data"
    },
    {
     "data": {
      "application/vnd.jupyter.widget-view+json": {
       "model_id": "9689a3b75f824b749d804400c538753f",
       "version_major": 2,
       "version_minor": 0
      },
      "text/plain": [
       "Batches:   0%|          | 0/16 [00:00<?, ?it/s]"
      ]
     },
     "metadata": {},
     "output_type": "display_data"
    },
    {
     "name": "stdout",
     "output_type": "stream",
     "text": [
      "{'eval_valid/roc_auc': 0.5950188832783876, 'eval_valid/average_precision': 0.2819439574832992, 'eval_valid/f1_score': 0.2985811227637261, 'eval_valid/precision': 0.17625637290604515, 'eval_valid/recall': 0.9758064516129032, 'eval_valid/accuracy': 0.1921847246891652, 'eval_valid/best_hit1': 0.46975806451612906, 'eval_valid/best_hit3': 0.657258064516129, 'eval_valid/best_hit5': 0.8407258064516129, 'eval_valid/best_hit10': 1.0, 'eval_valid/best_hit20': 1.0, 'eval_valid/best_hit50': 1.0, 'eval_valid/best_hit100': 1.0, 'eval_valid/best_reciprocal_rank': 0.6165322580645161, 'eval_valid/worst_hit1': 0.46975806451612906, 'eval_valid/worst_hit3': 0.657258064516129, 'eval_valid/worst_hit5': 0.8407258064516129, 'eval_valid/worst_hit10': 1.0, 'eval_valid/worst_hit20': 1.0, 'eval_valid/worst_hit50': 1.0, 'eval_valid/worst_hit100': 1.0, 'eval_valid/worst_reciprocal_rank': 0.6165322580645161, 'eval_train_matching/roc_auc': 0.5197153051757617, 'eval_train_matching/average_precision': 0.22053842352828504, 'eval_train_matching/f1_score': 0.3064699205448354, 'eval_train_matching/precision': 0.19622093023255813, 'eval_train_matching/recall': 0.6994818652849741, 'eval_train_matching/accuracy': 0.38074324324324327, 'eval_train_matching/best_hit1': 0.344, 'eval_train_matching/best_hit3': 0.59, 'eval_train_matching/best_hit5': 0.8, 'eval_train_matching/best_hit10': 1.0, 'eval_train_matching/best_hit20': 1.0, 'eval_train_matching/best_hit50': 1.0, 'eval_train_matching/best_hit100': 1.0, 'eval_train_matching/best_reciprocal_rank': 0.5231666666666667, 'eval_train_matching/worst_hit1': 0.3, 'eval_train_matching/worst_hit3': 0.534, 'eval_train_matching/worst_hit5': 0.73, 'eval_train_matching/worst_hit10': 1.0, 'eval_train_matching/worst_hit20': 1.0, 'eval_train_matching/worst_hit50': 1.0, 'eval_train_matching/worst_hit100': 1.0, 'eval_train_matching/worst_reciprocal_rank': 0.4813928571428572, 'eval_train_relation/roc_auc': 0.44995282764755695, 'eval_train_relation/average_precision': 0.556940902086302, 'eval_train_relation/f1_score': 0.5949142519219397, 'eval_train_relation/precision': 0.6036603660366037, 'eval_train_relation/recall': 0.586417953949286, 'eval_train_relation/accuracy': 0.5055044215845516, 'eval_train_relation/best_hit1': 0.41, 'eval_train_relation/best_hit3': 0.734, 'eval_train_relation/best_hit5': 0.9, 'eval_train_relation/best_hit10': 1.0, 'eval_train_relation/best_hit20': 1.0, 'eval_train_relation/best_hit50': 1.0, 'eval_train_relation/best_hit100': 1.0, 'eval_train_relation/best_reciprocal_rank': 0.6073, 'eval_train_relation/worst_hit1': 0.0, 'eval_train_relation/worst_hit3': 0.03, 'eval_train_relation/worst_hit5': 0.116, 'eval_train_relation/worst_hit10': 0.578, 'eval_train_relation/worst_hit20': 0.97, 'eval_train_relation/worst_hit50': 1.0, 'eval_train_relation/worst_hit100': 1.0, 'eval_train_relation/worst_reciprocal_rank': 0.1220777406146672, 'eval_sequential_score': 0.44995282764755695, 'eval_runtime': 3.7879, 'eval_samples_per_second': 0.0, 'eval_steps_per_second': 0.0, 'epoch': 3.15}\n",
      "{'loss': 4.434, 'grad_norm': 19.350553512573242, 'learning_rate': 1.5052088670287258e-05, 'epoch': 3.23}\n",
      "{'loss': 4.4321, 'grad_norm': 5.1532182693481445, 'learning_rate': 1.4877207364142503e-05, 'epoch': 3.31}\n",
      "{'loss': 4.4261, 'grad_norm': 8.977330207824707, 'learning_rate': 1.4702326057997746e-05, 'epoch': 3.38}\n",
      "{'loss': 4.4386, 'grad_norm': 9.323919296264648, 'learning_rate': 1.4527444751852993e-05, 'epoch': 3.46}\n",
      "{'loss': 4.4285, 'grad_norm': 25.80642318725586, 'learning_rate': 1.4352563445708236e-05, 'epoch': 3.54}\n",
      "{'loss': 4.4256, 'grad_norm': 5.2249860763549805, 'learning_rate': 1.417768213956348e-05, 'epoch': 3.62}\n",
      "{'loss': 4.424, 'grad_norm': 4.5494208335876465, 'learning_rate': 1.4002800833418726e-05, 'epoch': 3.7}\n",
      "{'loss': 4.417, 'grad_norm': 0.961883008480072, 'learning_rate': 1.382791952727397e-05, 'epoch': 3.78}\n"
     ]
    },
    {
     "data": {
      "application/vnd.jupyter.widget-view+json": {
       "model_id": "9e3de3a708f343948437e54c6d782960",
       "version_major": 2,
       "version_minor": 0
      },
      "text/plain": [
       "Batches:   0%|          | 0/84 [00:00<?, ?it/s]"
      ]
     },
     "metadata": {},
     "output_type": "display_data"
    },
    {
     "data": {
      "application/vnd.jupyter.widget-view+json": {
       "model_id": "b4329ce5270243bb91304877a2eb350c",
       "version_major": 2,
       "version_minor": 0
      },
      "text/plain": [
       "Batches:   0%|          | 0/16 [00:00<?, ?it/s]"
      ]
     },
     "metadata": {},
     "output_type": "display_data"
    },
    {
     "data": {
      "application/vnd.jupyter.widget-view+json": {
       "model_id": "df9eadd3654a41f584851f08eb22c9c3",
       "version_major": 2,
       "version_minor": 0
      },
      "text/plain": [
       "Batches:   0%|          | 0/86 [00:00<?, ?it/s]"
      ]
     },
     "metadata": {},
     "output_type": "display_data"
    },
    {
     "data": {
      "application/vnd.jupyter.widget-view+json": {
       "model_id": "831550c2d6364c7cbed15d40d77a7db6",
       "version_major": 2,
       "version_minor": 0
      },
      "text/plain": [
       "Batches:   0%|          | 0/16 [00:00<?, ?it/s]"
      ]
     },
     "metadata": {},
     "output_type": "display_data"
    },
    {
     "data": {
      "application/vnd.jupyter.widget-view+json": {
       "model_id": "9b750c51825b455fa80f9c61d3f3204f",
       "version_major": 2,
       "version_minor": 0
      },
      "text/plain": [
       "Batches:   0%|          | 0/103 [00:00<?, ?it/s]"
      ]
     },
     "metadata": {},
     "output_type": "display_data"
    },
    {
     "data": {
      "application/vnd.jupyter.widget-view+json": {
       "model_id": "e0ec042594ea46dc8d2011c310b981d5",
       "version_major": 2,
       "version_minor": 0
      },
      "text/plain": [
       "Batches:   0%|          | 0/16 [00:00<?, ?it/s]"
      ]
     },
     "metadata": {},
     "output_type": "display_data"
    },
    {
     "name": "stdout",
     "output_type": "stream",
     "text": [
      "{'eval_valid/roc_auc': 0.5964407802306333, 'eval_valid/average_precision': 0.2687973857244743, 'eval_valid/f1_score': 0.30340944635595873, 'eval_valid/precision': 0.17956312476860423, 'eval_valid/recall': 0.9778225806451613, 'eval_valid/accuracy': 0.2088809946714032, 'eval_valid/best_hit1': 0.47580645161290325, 'eval_valid/best_hit3': 0.6895161290322581, 'eval_valid/best_hit5': 0.8608870967741935, 'eval_valid/best_hit10': 1.0, 'eval_valid/best_hit20': 1.0, 'eval_valid/best_hit50': 1.0, 'eval_valid/best_hit100': 1.0, 'eval_valid/best_reciprocal_rank': 0.6297043010752689, 'eval_valid/worst_hit1': 0.47580645161290325, 'eval_valid/worst_hit3': 0.6895161290322581, 'eval_valid/worst_hit5': 0.8608870967741935, 'eval_valid/worst_hit10': 1.0, 'eval_valid/worst_hit20': 1.0, 'eval_valid/worst_hit50': 1.0, 'eval_valid/worst_hit100': 1.0, 'eval_valid/worst_reciprocal_rank': 0.6297043010752689, 'eval_train_matching/roc_auc': 0.5189141294894309, 'eval_train_matching/average_precision': 0.21990831635359182, 'eval_train_matching/f1_score': 0.3033838973162194, 'eval_train_matching/precision': 0.19578313253012047, 'eval_train_matching/recall': 0.6735751295336787, 'eval_train_matching/accuracy': 0.3949324324324324, 'eval_train_matching/best_hit1': 0.332, 'eval_train_matching/best_hit3': 0.56, 'eval_train_matching/best_hit5': 0.798, 'eval_train_matching/best_hit10': 1.0, 'eval_train_matching/best_hit20': 1.0, 'eval_train_matching/best_hit50': 1.0, 'eval_train_matching/best_hit100': 1.0, 'eval_train_matching/best_reciprocal_rank': 0.5164333333333334, 'eval_train_matching/worst_hit1': 0.282, 'eval_train_matching/worst_hit3': 0.528, 'eval_train_matching/worst_hit5': 0.734, 'eval_train_matching/worst_hit10': 1.0, 'eval_train_matching/worst_hit20': 1.0, 'eval_train_matching/worst_hit50': 1.0, 'eval_train_matching/worst_hit100': 1.0, 'eval_train_matching/worst_reciprocal_rank': 0.4763380952380952, 'eval_train_relation/roc_auc': 0.4567996563255845, 'eval_train_relation/average_precision': 0.5596549580186545, 'eval_train_relation/f1_score': 0.5880945258749626, 'eval_train_relation/precision': 0.6039938556067588, 'eval_train_relation/recall': 0.5730107840279802, 'eval_train_relation/accuracy': 0.502977801840823, 'eval_train_relation/best_hit1': 0.43, 'eval_train_relation/best_hit3': 0.744, 'eval_train_relation/best_hit5': 0.894, 'eval_train_relation/best_hit10': 1.0, 'eval_train_relation/best_hit20': 1.0, 'eval_train_relation/best_hit50': 1.0, 'eval_train_relation/best_hit100': 1.0, 'eval_train_relation/best_reciprocal_rank': 0.6203333333333333, 'eval_train_relation/worst_hit1': 0.0, 'eval_train_relation/worst_hit3': 0.034, 'eval_train_relation/worst_hit5': 0.128, 'eval_train_relation/worst_hit10': 0.588, 'eval_train_relation/worst_hit20': 0.968, 'eval_train_relation/worst_hit50': 1.0, 'eval_train_relation/worst_hit100': 1.0, 'eval_train_relation/worst_reciprocal_rank': 0.1246455559526791, 'eval_sequential_score': 0.4567996563255845, 'eval_runtime': 3.6254, 'eval_samples_per_second': 0.0, 'eval_steps_per_second': 0.0, 'epoch': 3.78}\n"
     ]
    },
    {
     "name": "stderr",
     "output_type": "stream",
     "text": [
      "2025-10-02 00:39:12 - Saving model checkpoint to output/finetune_posaware/2025-10-01_23-23-45\\checkpoint-12288\n",
      "2025-10-02 00:39:12 - Save model to output/finetune_posaware/2025-10-01_23-23-45\\checkpoint-12288\n"
     ]
    },
    {
     "name": "stdout",
     "output_type": "stream",
     "text": [
      "{'loss': 4.4153, 'grad_norm': 2.562068462371826, 'learning_rate': 1.3653038221129215e-05, 'epoch': 3.86}\n",
      "{'loss': 4.4113, 'grad_norm': 8.81589412689209, 'learning_rate': 1.347815691498446e-05, 'epoch': 3.93}\n",
      "{'loss': 4.4131, 'grad_norm': 3.2837586402893066, 'learning_rate': 1.3303275608839705e-05, 'epoch': 4.01}\n",
      "{'loss': 4.4064, 'grad_norm': 0.21381697058677673, 'learning_rate': 1.3128394302694948e-05, 'epoch': 4.09}\n",
      "{'loss': 4.4031, 'grad_norm': 2.677706718444824, 'learning_rate': 1.2953512996550195e-05, 'epoch': 4.17}\n",
      "{'loss': 4.4149, 'grad_norm': 42.11542892456055, 'learning_rate': 1.2778631690405439e-05, 'epoch': 4.25}\n",
      "{'loss': 4.4022, 'grad_norm': 21.50039291381836, 'learning_rate': 1.2603750384260685e-05, 'epoch': 4.33}\n",
      "{'loss': 4.406, 'grad_norm': 0.25554800033569336, 'learning_rate': 1.2428869078115929e-05, 'epoch': 4.41}\n"
     ]
    },
    {
     "data": {
      "application/vnd.jupyter.widget-view+json": {
       "model_id": "707224bc5b9a4133860ea997983555e1",
       "version_major": 2,
       "version_minor": 0
      },
      "text/plain": [
       "Batches:   0%|          | 0/84 [00:00<?, ?it/s]"
      ]
     },
     "metadata": {},
     "output_type": "display_data"
    },
    {
     "data": {
      "application/vnd.jupyter.widget-view+json": {
       "model_id": "a4852c283008436cad8fceaa2d0a18c6",
       "version_major": 2,
       "version_minor": 0
      },
      "text/plain": [
       "Batches:   0%|          | 0/16 [00:00<?, ?it/s]"
      ]
     },
     "metadata": {},
     "output_type": "display_data"
    },
    {
     "data": {
      "application/vnd.jupyter.widget-view+json": {
       "model_id": "3bb321895e574f968eeb008cabb16722",
       "version_major": 2,
       "version_minor": 0
      },
      "text/plain": [
       "Batches:   0%|          | 0/86 [00:00<?, ?it/s]"
      ]
     },
     "metadata": {},
     "output_type": "display_data"
    },
    {
     "data": {
      "application/vnd.jupyter.widget-view+json": {
       "model_id": "10697323658e4dceb3d174d0708c3476",
       "version_major": 2,
       "version_minor": 0
      },
      "text/plain": [
       "Batches:   0%|          | 0/16 [00:00<?, ?it/s]"
      ]
     },
     "metadata": {},
     "output_type": "display_data"
    },
    {
     "data": {
      "application/vnd.jupyter.widget-view+json": {
       "model_id": "dfcf40f735ac46f199b336f4754b63ee",
       "version_major": 2,
       "version_minor": 0
      },
      "text/plain": [
       "Batches:   0%|          | 0/103 [00:00<?, ?it/s]"
      ]
     },
     "metadata": {},
     "output_type": "display_data"
    },
    {
     "data": {
      "application/vnd.jupyter.widget-view+json": {
       "model_id": "ebf15b5ad3de4c9aab58adeb15178d91",
       "version_major": 2,
       "version_minor": 0
      },
      "text/plain": [
       "Batches:   0%|          | 0/16 [00:00<?, ?it/s]"
      ]
     },
     "metadata": {},
     "output_type": "display_data"
    },
    {
     "name": "stdout",
     "output_type": "stream",
     "text": [
      "{'eval_valid/roc_auc': 0.5784495020100433, 'eval_valid/average_precision': 0.24901084726024042, 'eval_valid/f1_score': 0.3041301627033792, 'eval_valid/precision': 0.18, 'eval_valid/recall': 0.9798387096774194, 'eval_valid/accuracy': 0.20994671403197157, 'eval_valid/best_hit1': 0.4254032258064516, 'eval_valid/best_hit3': 0.625, 'eval_valid/best_hit5': 0.8205645161290323, 'eval_valid/best_hit10': 1.0, 'eval_valid/best_hit20': 1.0, 'eval_valid/best_hit50': 1.0, 'eval_valid/best_hit100': 1.0, 'eval_valid/best_reciprocal_rank': 0.5845430107526882, 'eval_valid/worst_hit1': 0.4254032258064516, 'eval_valid/worst_hit3': 0.625, 'eval_valid/worst_hit5': 0.8205645161290323, 'eval_valid/worst_hit10': 1.0, 'eval_valid/worst_hit20': 1.0, 'eval_valid/worst_hit50': 1.0, 'eval_valid/worst_hit100': 1.0, 'eval_valid/worst_reciprocal_rank': 0.5845430107526882, 'eval_train_matching/roc_auc': 0.5105400482663922, 'eval_train_matching/average_precision': 0.2154259335953462, 'eval_train_matching/f1_score': 0.308168795973674, 'eval_train_matching/precision': 0.19860279441117765, 'eval_train_matching/recall': 0.687392055267703, 'eval_train_matching/accuracy': 0.39628378378378376, 'eval_train_matching/best_hit1': 0.324, 'eval_train_matching/best_hit3': 0.562, 'eval_train_matching/best_hit5': 0.756, 'eval_train_matching/best_hit10': 1.0, 'eval_train_matching/best_hit20': 1.0, 'eval_train_matching/best_hit50': 1.0, 'eval_train_matching/best_hit100': 1.0, 'eval_train_matching/best_reciprocal_rank': 0.5104, 'eval_train_matching/worst_hit1': 0.274, 'eval_train_matching/worst_hit3': 0.504, 'eval_train_matching/worst_hit5': 0.704, 'eval_train_matching/worst_hit10': 1.0, 'eval_train_matching/worst_hit20': 1.0, 'eval_train_matching/worst_hit50': 1.0, 'eval_train_matching/worst_hit100': 1.0, 'eval_train_matching/worst_reciprocal_rank': 0.4663880952380952, 'eval_train_relation/roc_auc': 0.45217269086845474, 'eval_train_relation/average_precision': 0.560078218472847, 'eval_train_relation/f1_score': 0.635830072666294, 'eval_train_relation/precision': 0.610738255033557, 'eval_train_relation/recall': 0.663071990673273, 'eval_train_relation/accuracy': 0.5296877819888107, 'eval_train_relation/best_hit1': 0.392, 'eval_train_relation/best_hit3': 0.714, 'eval_train_relation/best_hit5': 0.89, 'eval_train_relation/best_hit10': 1.0, 'eval_train_relation/best_hit20': 1.0, 'eval_train_relation/best_hit50': 1.0, 'eval_train_relation/best_hit100': 1.0, 'eval_train_relation/best_reciprocal_rank': 0.5901, 'eval_train_relation/worst_hit1': 0.0, 'eval_train_relation/worst_hit3': 0.03, 'eval_train_relation/worst_hit5': 0.122, 'eval_train_relation/worst_hit10': 0.572, 'eval_train_relation/worst_hit20': 0.97, 'eval_train_relation/worst_hit50': 1.0, 'eval_train_relation/worst_hit100': 1.0, 'eval_train_relation/worst_reciprocal_rank': 0.12169273944514122, 'eval_sequential_score': 0.45217269086845474, 'eval_runtime': 3.7649, 'eval_samples_per_second': 0.0, 'eval_steps_per_second': 0.0, 'epoch': 4.41}\n",
      "{'loss': 4.409, 'grad_norm': 24.106042861938477, 'learning_rate': 1.2253987771971172e-05, 'epoch': 4.49}\n",
      "{'loss': 4.4, 'grad_norm': 7.8641276359558105, 'learning_rate': 1.2079106465826417e-05, 'epoch': 4.56}\n",
      "{'loss': 4.4, 'grad_norm': 19.441444396972656, 'learning_rate': 1.1904225159681662e-05, 'epoch': 4.64}\n",
      "{'loss': 4.4046, 'grad_norm': 6.042496681213379, 'learning_rate': 1.1729343853536907e-05, 'epoch': 4.72}\n",
      "{'loss': 4.3953, 'grad_norm': 0.5210849642753601, 'learning_rate': 1.155446254739215e-05, 'epoch': 4.8}\n",
      "{'loss': 4.3966, 'grad_norm': 36.388755798339844, 'learning_rate': 1.1379581241247397e-05, 'epoch': 4.88}\n",
      "{'loss': 4.4066, 'grad_norm': 1.7989190816879272, 'learning_rate': 1.120469993510264e-05, 'epoch': 4.96}\n",
      "{'loss': 4.3893, 'grad_norm': 5.514754772186279, 'learning_rate': 1.1029818628957888e-05, 'epoch': 5.04}\n"
     ]
    },
    {
     "data": {
      "application/vnd.jupyter.widget-view+json": {
       "model_id": "baac71de3dbc453bad095238fcf42d89",
       "version_major": 2,
       "version_minor": 0
      },
      "text/plain": [
       "Batches:   0%|          | 0/84 [00:00<?, ?it/s]"
      ]
     },
     "metadata": {},
     "output_type": "display_data"
    },
    {
     "data": {
      "application/vnd.jupyter.widget-view+json": {
       "model_id": "5d114f39d9f14646b1514e44b7337240",
       "version_major": 2,
       "version_minor": 0
      },
      "text/plain": [
       "Batches:   0%|          | 0/16 [00:00<?, ?it/s]"
      ]
     },
     "metadata": {},
     "output_type": "display_data"
    },
    {
     "data": {
      "application/vnd.jupyter.widget-view+json": {
       "model_id": "b899538f31724da588775ae64318cc1a",
       "version_major": 2,
       "version_minor": 0
      },
      "text/plain": [
       "Batches:   0%|          | 0/86 [00:00<?, ?it/s]"
      ]
     },
     "metadata": {},
     "output_type": "display_data"
    },
    {
     "data": {
      "application/vnd.jupyter.widget-view+json": {
       "model_id": "dc3fd8779bb145b3b82c45902b0cc3ce",
       "version_major": 2,
       "version_minor": 0
      },
      "text/plain": [
       "Batches:   0%|          | 0/16 [00:00<?, ?it/s]"
      ]
     },
     "metadata": {},
     "output_type": "display_data"
    },
    {
     "data": {
      "application/vnd.jupyter.widget-view+json": {
       "model_id": "a9f8ab8fe6fe4a81abcd1e0bf7fddb10",
       "version_major": 2,
       "version_minor": 0
      },
      "text/plain": [
       "Batches:   0%|          | 0/103 [00:00<?, ?it/s]"
      ]
     },
     "metadata": {},
     "output_type": "display_data"
    },
    {
     "data": {
      "application/vnd.jupyter.widget-view+json": {
       "model_id": "17e22dda8f624f66b0311a5746633748",
       "version_major": 2,
       "version_minor": 0
      },
      "text/plain": [
       "Batches:   0%|          | 0/16 [00:00<?, ?it/s]"
      ]
     },
     "metadata": {},
     "output_type": "display_data"
    },
    {
     "name": "stdout",
     "output_type": "stream",
     "text": [
      "{'eval_valid/roc_auc': 0.5897459973013952, 'eval_valid/average_precision': 0.25518318563143044, 'eval_valid/f1_score': 0.30442919525888956, 'eval_valid/precision': 0.18007380073800738, 'eval_valid/recall': 0.9838709677419355, 'eval_valid/accuracy': 0.20781527531083482, 'eval_valid/best_hit1': 0.40725806451612906, 'eval_valid/best_hit3': 0.6431451612903226, 'eval_valid/best_hit5': 0.844758064516129, 'eval_valid/best_hit10': 1.0, 'eval_valid/best_hit20': 1.0, 'eval_valid/best_hit50': 1.0, 'eval_valid/best_hit100': 1.0, 'eval_valid/best_reciprocal_rank': 0.5802755376344086, 'eval_valid/worst_hit1': 0.40725806451612906, 'eval_valid/worst_hit3': 0.6431451612903226, 'eval_valid/worst_hit5': 0.844758064516129, 'eval_valid/worst_hit10': 1.0, 'eval_valid/worst_hit20': 1.0, 'eval_valid/worst_hit50': 1.0, 'eval_valid/worst_hit100': 1.0, 'eval_valid/worst_reciprocal_rank': 0.5802755376344086, 'eval_train_matching/roc_auc': 0.5227535345666143, 'eval_train_matching/average_precision': 0.2196589672805787, 'eval_train_matching/f1_score': 0.3103850641773629, 'eval_train_matching/precision': 0.2003012048192771, 'eval_train_matching/recall': 0.689119170984456, 'eval_train_matching/accuracy': 0.4010135135135135, 'eval_train_matching/best_hit1': 0.318, 'eval_train_matching/best_hit3': 0.542, 'eval_train_matching/best_hit5': 0.774, 'eval_train_matching/best_hit10': 1.0, 'eval_train_matching/best_hit20': 1.0, 'eval_train_matching/best_hit50': 1.0, 'eval_train_matching/best_hit100': 1.0, 'eval_train_matching/best_reciprocal_rank': 0.5019, 'eval_train_matching/worst_hit1': 0.27, 'eval_train_matching/worst_hit3': 0.492, 'eval_train_matching/worst_hit5': 0.712, 'eval_train_matching/worst_hit10': 1.0, 'eval_train_matching/worst_hit20': 1.0, 'eval_train_matching/worst_hit50': 1.0, 'eval_train_matching/worst_hit100': 1.0, 'eval_train_matching/worst_reciprocal_rank': 0.4598833333333333, 'eval_train_relation/roc_auc': 0.45416311550250643, 'eval_train_relation/average_precision': 0.564622743498256, 'eval_train_relation/f1_score': 0.5930354207143924, 'eval_train_relation/precision': 0.6085889570552148, 'eval_train_relation/recall': 0.5782570679102302, 'eval_train_relation/accuracy': 0.5085724598447934, 'eval_train_relation/best_hit1': 0.398, 'eval_train_relation/best_hit3': 0.734, 'eval_train_relation/best_hit5': 0.896, 'eval_train_relation/best_hit10': 1.0, 'eval_train_relation/best_hit20': 1.0, 'eval_train_relation/best_hit50': 1.0, 'eval_train_relation/best_hit100': 1.0, 'eval_train_relation/best_reciprocal_rank': 0.5969000000000001, 'eval_train_relation/worst_hit1': 0.0, 'eval_train_relation/worst_hit3': 0.034, 'eval_train_relation/worst_hit5': 0.126, 'eval_train_relation/worst_hit10': 0.574, 'eval_train_relation/worst_hit20': 0.968, 'eval_train_relation/worst_hit50': 1.0, 'eval_train_relation/worst_hit100': 1.0, 'eval_train_relation/worst_reciprocal_rank': 0.12194224996152948, 'eval_sequential_score': 0.45416311550250643, 'eval_runtime': 3.7463, 'eval_samples_per_second': 0.0, 'eval_steps_per_second': 0.0, 'epoch': 5.04}\n"
     ]
    },
    {
     "name": "stderr",
     "output_type": "stream",
     "text": [
      "2025-10-02 01:01:56 - Saving model checkpoint to output/finetune_posaware/2025-10-01_23-23-45\\checkpoint-16384\n",
      "2025-10-02 01:01:56 - Save model to output/finetune_posaware/2025-10-01_23-23-45\\checkpoint-16384\n"
     ]
    },
    {
     "name": "stdout",
     "output_type": "stream",
     "text": [
      "{'loss': 4.3888, 'grad_norm': 23.758991241455078, 'learning_rate': 1.0854937322813131e-05, 'epoch': 5.12}\n",
      "{'loss': 4.3904, 'grad_norm': 29.98540687561035, 'learning_rate': 1.0680056016668376e-05, 'epoch': 5.19}\n",
      "{'loss': 4.3855, 'grad_norm': 0.8936144113540649, 'learning_rate': 1.050517471052362e-05, 'epoch': 5.27}\n",
      "{'loss': 4.3963, 'grad_norm': 5.8200273513793945, 'learning_rate': 1.0330293404378865e-05, 'epoch': 5.35}\n",
      "{'loss': 4.3923, 'grad_norm': 69.61217498779297, 'learning_rate': 1.015541209823411e-05, 'epoch': 5.43}\n",
      "{'loss': 4.3878, 'grad_norm': 9.215950012207031, 'learning_rate': 9.980530792089355e-06, 'epoch': 5.51}\n",
      "{'loss': 4.3904, 'grad_norm': 0.02988452836871147, 'learning_rate': 9.8056494859446e-06, 'epoch': 5.59}\n",
      "{'loss': 4.3873, 'grad_norm': 2.050149440765381, 'learning_rate': 9.630768179799843e-06, 'epoch': 5.67}\n"
     ]
    },
    {
     "data": {
      "application/vnd.jupyter.widget-view+json": {
       "model_id": "eba5a409ab684befb3dd26b994519054",
       "version_major": 2,
       "version_minor": 0
      },
      "text/plain": [
       "Batches:   0%|          | 0/84 [00:00<?, ?it/s]"
      ]
     },
     "metadata": {},
     "output_type": "display_data"
    },
    {
     "data": {
      "application/vnd.jupyter.widget-view+json": {
       "model_id": "b6676e08f62446e1b400c9b21ceecd42",
       "version_major": 2,
       "version_minor": 0
      },
      "text/plain": [
       "Batches:   0%|          | 0/16 [00:00<?, ?it/s]"
      ]
     },
     "metadata": {},
     "output_type": "display_data"
    },
    {
     "data": {
      "application/vnd.jupyter.widget-view+json": {
       "model_id": "f820f96068ee42ecb09e305c6ca4507b",
       "version_major": 2,
       "version_minor": 0
      },
      "text/plain": [
       "Batches:   0%|          | 0/86 [00:00<?, ?it/s]"
      ]
     },
     "metadata": {},
     "output_type": "display_data"
    },
    {
     "data": {
      "application/vnd.jupyter.widget-view+json": {
       "model_id": "469313a773914f21ab361f65257c2e15",
       "version_major": 2,
       "version_minor": 0
      },
      "text/plain": [
       "Batches:   0%|          | 0/16 [00:00<?, ?it/s]"
      ]
     },
     "metadata": {},
     "output_type": "display_data"
    },
    {
     "data": {
      "application/vnd.jupyter.widget-view+json": {
       "model_id": "922bd8edf456478d91124fe66f00a850",
       "version_major": 2,
       "version_minor": 0
      },
      "text/plain": [
       "Batches:   0%|          | 0/103 [00:00<?, ?it/s]"
      ]
     },
     "metadata": {},
     "output_type": "display_data"
    },
    {
     "data": {
      "application/vnd.jupyter.widget-view+json": {
       "model_id": "c06831357a6241af993dd083c8dda170",
       "version_major": 2,
       "version_minor": 0
      },
      "text/plain": [
       "Batches:   0%|          | 0/16 [00:00<?, ?it/s]"
      ]
     },
     "metadata": {},
     "output_type": "display_data"
    },
    {
     "name": "stdout",
     "output_type": "stream",
     "text": [
      "{'eval_valid/roc_auc': 0.5877129150495903, 'eval_valid/average_precision': 0.23396083696519798, 'eval_valid/f1_score': 0.3032197561738043, 'eval_valid/precision': 0.17943026267110618, 'eval_valid/recall': 0.9778225806451613, 'eval_valid/accuracy': 0.20817051509769094, 'eval_valid/best_hit1': 0.36088709677419356, 'eval_valid/best_hit3': 0.6209677419354839, 'eval_valid/best_hit5': 0.8548387096774194, 'eval_valid/best_hit10': 1.0, 'eval_valid/best_hit20': 1.0, 'eval_valid/best_hit50': 1.0, 'eval_valid/best_hit100': 1.0, 'eval_valid/best_reciprocal_rank': 0.5487903225806451, 'eval_valid/worst_hit1': 0.36088709677419356, 'eval_valid/worst_hit3': 0.6209677419354839, 'eval_valid/worst_hit5': 0.8548387096774194, 'eval_valid/worst_hit10': 1.0, 'eval_valid/worst_hit20': 1.0, 'eval_valid/worst_hit50': 1.0, 'eval_valid/worst_hit100': 1.0, 'eval_valid/worst_reciprocal_rank': 0.5487903225806451, 'eval_train_matching/roc_auc': 0.5180498462569608, 'eval_train_matching/average_precision': 0.21341994020366695, 'eval_train_matching/f1_score': 0.30959752321981426, 'eval_train_matching/precision': 0.19950124688279303, 'eval_train_matching/recall': 0.690846286701209, 'eval_train_matching/accuracy': 0.3972972972972973, 'eval_train_matching/best_hit1': 0.312, 'eval_train_matching/best_hit3': 0.518, 'eval_train_matching/best_hit5': 0.764, 'eval_train_matching/best_hit10': 1.0, 'eval_train_matching/best_hit20': 1.0, 'eval_train_matching/best_hit50': 1.0, 'eval_train_matching/best_hit100': 1.0, 'eval_train_matching/best_reciprocal_rank': 0.4952, 'eval_train_matching/worst_hit1': 0.258, 'eval_train_matching/worst_hit3': 0.476, 'eval_train_matching/worst_hit5': 0.706, 'eval_train_matching/worst_hit10': 1.0, 'eval_train_matching/worst_hit20': 1.0, 'eval_train_matching/worst_hit50': 1.0, 'eval_train_matching/worst_hit100': 1.0, 'eval_train_matching/worst_reciprocal_rank': 0.4500285714285714, 'eval_train_relation/roc_auc': 0.4511380071027888, 'eval_train_relation/average_precision': 0.5629150637973399, 'eval_train_relation/f1_score': 0.6186865073687223, 'eval_train_relation/precision': 0.6076447442383361, 'eval_train_relation/recall': 0.6301369863013698, 'eval_train_relation/accuracy': 0.5190398844973831, 'eval_train_relation/best_hit1': 0.378, 'eval_train_relation/best_hit3': 0.726, 'eval_train_relation/best_hit5': 0.888, 'eval_train_relation/best_hit10': 1.0, 'eval_train_relation/best_hit20': 1.0, 'eval_train_relation/best_hit50': 1.0, 'eval_train_relation/best_hit100': 1.0, 'eval_train_relation/best_reciprocal_rank': 0.5867666666666667, 'eval_train_relation/worst_hit1': 0.0, 'eval_train_relation/worst_hit3': 0.026, 'eval_train_relation/worst_hit5': 0.106, 'eval_train_relation/worst_hit10': 0.572, 'eval_train_relation/worst_hit20': 0.968, 'eval_train_relation/worst_hit50': 1.0, 'eval_train_relation/worst_hit100': 1.0, 'eval_train_relation/worst_reciprocal_rank': 0.11777101965375826, 'eval_sequential_score': 0.4511380071027888, 'eval_runtime': 3.5881, 'eval_samples_per_second': 0.0, 'eval_steps_per_second': 0.0, 'epoch': 5.67}\n",
      "{'loss': 4.3821, 'grad_norm': 11.45576286315918, 'learning_rate': 9.455886873655088e-06, 'epoch': 5.74}\n",
      "{'loss': 4.3839, 'grad_norm': 1.347196340560913, 'learning_rate': 9.281005567510333e-06, 'epoch': 5.82}\n",
      "{'loss': 4.3904, 'grad_norm': 1.9065202474594116, 'learning_rate': 9.106124261365578e-06, 'epoch': 5.9}\n",
      "{'loss': 4.3897, 'grad_norm': 1.2231768369674683, 'learning_rate': 8.931242955220822e-06, 'epoch': 5.98}\n",
      "{'loss': 4.3876, 'grad_norm': 39.306766510009766, 'learning_rate': 8.756361649076067e-06, 'epoch': 6.06}\n",
      "{'loss': 4.3815, 'grad_norm': 26.19146728515625, 'learning_rate': 8.581480342931312e-06, 'epoch': 6.14}\n",
      "{'loss': 4.3866, 'grad_norm': 9.042207717895508, 'learning_rate': 8.406599036786557e-06, 'epoch': 6.22}\n",
      "{'loss': 4.3778, 'grad_norm': 5.677447319030762, 'learning_rate': 8.231717730641802e-06, 'epoch': 6.3}\n"
     ]
    },
    {
     "data": {
      "application/vnd.jupyter.widget-view+json": {
       "model_id": "24a318d93ed942f8bff415ba214bce76",
       "version_major": 2,
       "version_minor": 0
      },
      "text/plain": [
       "Batches:   0%|          | 0/84 [00:00<?, ?it/s]"
      ]
     },
     "metadata": {},
     "output_type": "display_data"
    },
    {
     "data": {
      "application/vnd.jupyter.widget-view+json": {
       "model_id": "662e1c67a42342c499dffd1e77e3a75e",
       "version_major": 2,
       "version_minor": 0
      },
      "text/plain": [
       "Batches:   0%|          | 0/16 [00:00<?, ?it/s]"
      ]
     },
     "metadata": {},
     "output_type": "display_data"
    },
    {
     "data": {
      "application/vnd.jupyter.widget-view+json": {
       "model_id": "7c979652a99a42e5a4894511f150d9b0",
       "version_major": 2,
       "version_minor": 0
      },
      "text/plain": [
       "Batches:   0%|          | 0/86 [00:00<?, ?it/s]"
      ]
     },
     "metadata": {},
     "output_type": "display_data"
    },
    {
     "data": {
      "application/vnd.jupyter.widget-view+json": {
       "model_id": "ea879a15f1fa424cb8fe445fd1a7dc12",
       "version_major": 2,
       "version_minor": 0
      },
      "text/plain": [
       "Batches:   0%|          | 0/16 [00:00<?, ?it/s]"
      ]
     },
     "metadata": {},
     "output_type": "display_data"
    },
    {
     "data": {
      "application/vnd.jupyter.widget-view+json": {
       "model_id": "8dee5281a12d421eae5deed81f24fc56",
       "version_major": 2,
       "version_minor": 0
      },
      "text/plain": [
       "Batches:   0%|          | 0/103 [00:00<?, ?it/s]"
      ]
     },
     "metadata": {},
     "output_type": "display_data"
    },
    {
     "data": {
      "application/vnd.jupyter.widget-view+json": {
       "model_id": "1d3ffdeb26e54ec1864dd5d9e4c8d556",
       "version_major": 2,
       "version_minor": 0
      },
      "text/plain": [
       "Batches:   0%|          | 0/16 [00:00<?, ?it/s]"
      ]
     },
     "metadata": {},
     "output_type": "display_data"
    },
    {
     "name": "stdout",
     "output_type": "stream",
     "text": [
      "{'eval_valid/roc_auc': 0.5863657861425252, 'eval_valid/average_precision': 0.22998902472363486, 'eval_valid/f1_score': 0.3032015065913371, 'eval_valid/precision': 0.1795539033457249, 'eval_valid/recall': 0.9737903225806451, 'eval_valid/accuracy': 0.2113676731793961, 'eval_valid/best_hit1': 0.31451612903225806, 'eval_valid/best_hit3': 0.594758064516129, 'eval_valid/best_hit5': 0.8326612903225806, 'eval_valid/best_hit10': 1.0, 'eval_valid/best_hit20': 1.0, 'eval_valid/best_hit50': 1.0, 'eval_valid/best_hit100': 1.0, 'eval_valid/best_reciprocal_rank': 0.5143481182795699, 'eval_valid/worst_hit1': 0.31451612903225806, 'eval_valid/worst_hit3': 0.594758064516129, 'eval_valid/worst_hit5': 0.8326612903225806, 'eval_valid/worst_hit10': 1.0, 'eval_valid/worst_hit20': 1.0, 'eval_valid/worst_hit50': 1.0, 'eval_valid/worst_hit100': 1.0, 'eval_valid/worst_reciprocal_rank': 0.5143481182795699, 'eval_train_matching/roc_auc': 0.521308589372254, 'eval_train_matching/average_precision': 0.21288284283149972, 'eval_train_matching/f1_score': 0.30787037037037035, 'eval_train_matching/precision': 0.19821162444113263, 'eval_train_matching/recall': 0.689119170984456, 'eval_train_matching/accuracy': 0.3939189189189189, 'eval_train_matching/best_hit1': 0.256, 'eval_train_matching/best_hit3': 0.506, 'eval_train_matching/best_hit5': 0.756, 'eval_train_matching/best_hit10': 1.0, 'eval_train_matching/best_hit20': 1.0, 'eval_train_matching/best_hit50': 1.0, 'eval_train_matching/best_hit100': 1.0, 'eval_train_matching/best_reciprocal_rank': 0.4613333333333334, 'eval_train_matching/worst_hit1': 0.218, 'eval_train_matching/worst_hit3': 0.456, 'eval_train_matching/worst_hit5': 0.694, 'eval_train_matching/worst_hit10': 1.0, 'eval_train_matching/worst_hit20': 1.0, 'eval_train_matching/worst_hit50': 1.0, 'eval_train_matching/worst_hit100': 1.0, 'eval_train_matching/worst_reciprocal_rank': 0.42378571428571427, 'eval_train_relation/roc_auc': 0.45387579927093513, 'eval_train_relation/average_precision': 0.5712173596938709, 'eval_train_relation/f1_score': 0.6074030894782863, 'eval_train_relation/precision': 0.6074030894782863, 'eval_train_relation/recall': 0.6074030894782863, 'eval_train_relation/accuracy': 0.5138061721710883, 'eval_train_relation/best_hit1': 0.376, 'eval_train_relation/best_hit3': 0.756, 'eval_train_relation/best_hit5': 0.912, 'eval_train_relation/best_hit10': 1.0, 'eval_train_relation/best_hit20': 1.0, 'eval_train_relation/best_hit50': 1.0, 'eval_train_relation/best_hit100': 1.0, 'eval_train_relation/best_reciprocal_rank': 0.5887333333333333, 'eval_train_relation/worst_hit1': 0.0, 'eval_train_relation/worst_hit3': 0.028, 'eval_train_relation/worst_hit5': 0.11, 'eval_train_relation/worst_hit10': 0.572, 'eval_train_relation/worst_hit20': 0.968, 'eval_train_relation/worst_hit50': 1.0, 'eval_train_relation/worst_hit100': 1.0, 'eval_train_relation/worst_reciprocal_rank': 0.11839754019994198, 'eval_sequential_score': 0.45387579927093513, 'eval_runtime': 3.7513, 'eval_samples_per_second': 0.0, 'eval_steps_per_second': 0.0, 'epoch': 6.3}\n"
     ]
    },
    {
     "name": "stderr",
     "output_type": "stream",
     "text": [
      "2025-10-02 01:24:46 - Saving model checkpoint to output/finetune_posaware/2025-10-01_23-23-45\\checkpoint-20480\n",
      "2025-10-02 01:24:46 - Save model to output/finetune_posaware/2025-10-01_23-23-45\\checkpoint-20480\n"
     ]
    },
    {
     "name": "stdout",
     "output_type": "stream",
     "text": [
      "{'loss': 4.3801, 'grad_norm': 10.563935279846191, 'learning_rate': 8.056836424497047e-06, 'epoch': 6.37}\n",
      "{'loss': 4.3807, 'grad_norm': 0.8630800843238831, 'learning_rate': 7.881955118352292e-06, 'epoch': 6.45}\n",
      "{'loss': 4.3782, 'grad_norm': 3.3085110187530518, 'learning_rate': 7.707073812207536e-06, 'epoch': 6.53}\n",
      "{'loss': 4.3788, 'grad_norm': 0.8041106462478638, 'learning_rate': 7.53219250606278e-06, 'epoch': 6.61}\n",
      "{'loss': 4.3645, 'grad_norm': 2.2964746952056885, 'learning_rate': 7.357311199918025e-06, 'epoch': 6.69}\n",
      "{'loss': 4.3666, 'grad_norm': 0.30768823623657227, 'learning_rate': 7.18242989377327e-06, 'epoch': 6.77}\n",
      "{'loss': 4.3676, 'grad_norm': 3.015465021133423, 'learning_rate': 7.007548587628514e-06, 'epoch': 6.85}\n",
      "{'loss': 4.3785, 'grad_norm': 2.1338062286376953, 'learning_rate': 6.832667281483759e-06, 'epoch': 6.93}\n"
     ]
    },
    {
     "data": {
      "application/vnd.jupyter.widget-view+json": {
       "model_id": "2fbc0469a3f94caaa6dd29ee8c5780ea",
       "version_major": 2,
       "version_minor": 0
      },
      "text/plain": [
       "Batches:   0%|          | 0/84 [00:00<?, ?it/s]"
      ]
     },
     "metadata": {},
     "output_type": "display_data"
    },
    {
     "data": {
      "application/vnd.jupyter.widget-view+json": {
       "model_id": "ec4407e0e8154018a6e408bdef6aff72",
       "version_major": 2,
       "version_minor": 0
      },
      "text/plain": [
       "Batches:   0%|          | 0/16 [00:00<?, ?it/s]"
      ]
     },
     "metadata": {},
     "output_type": "display_data"
    },
    {
     "data": {
      "application/vnd.jupyter.widget-view+json": {
       "model_id": "621e8d8c2e3d4ee1bae0b45a4618fc3f",
       "version_major": 2,
       "version_minor": 0
      },
      "text/plain": [
       "Batches:   0%|          | 0/86 [00:00<?, ?it/s]"
      ]
     },
     "metadata": {},
     "output_type": "display_data"
    },
    {
     "data": {
      "application/vnd.jupyter.widget-view+json": {
       "model_id": "dbf1add0bc5d40ad83468bb6945351ee",
       "version_major": 2,
       "version_minor": 0
      },
      "text/plain": [
       "Batches:   0%|          | 0/16 [00:00<?, ?it/s]"
      ]
     },
     "metadata": {},
     "output_type": "display_data"
    },
    {
     "data": {
      "application/vnd.jupyter.widget-view+json": {
       "model_id": "da1146a16f0b41cbbb194fa141c04541",
       "version_major": 2,
       "version_minor": 0
      },
      "text/plain": [
       "Batches:   0%|          | 0/103 [00:00<?, ?it/s]"
      ]
     },
     "metadata": {},
     "output_type": "display_data"
    },
    {
     "data": {
      "application/vnd.jupyter.widget-view+json": {
       "model_id": "2621f018c78e4128b8128e98fcbffc49",
       "version_major": 2,
       "version_minor": 0
      },
      "text/plain": [
       "Batches:   0%|          | 0/16 [00:00<?, ?it/s]"
      ]
     },
     "metadata": {},
     "output_type": "display_data"
    },
    {
     "name": "stdout",
     "output_type": "stream",
     "text": [
      "{'eval_valid/roc_auc': 0.5937404366453838, 'eval_valid/average_precision': 0.23268875709896109, 'eval_valid/f1_score': 0.30303030303030304, 'eval_valid/precision': 0.17929759704251386, 'eval_valid/recall': 0.9778225806451613, 'eval_valid/accuracy': 0.20746003552397868, 'eval_valid/best_hit1': 0.30443548387096775, 'eval_valid/best_hit3': 0.5907258064516129, 'eval_valid/best_hit5': 0.8548387096774194, 'eval_valid/best_hit10': 1.0, 'eval_valid/best_hit20': 1.0, 'eval_valid/best_hit50': 1.0, 'eval_valid/best_hit100': 1.0, 'eval_valid/best_reciprocal_rank': 0.5097782258064516, 'eval_valid/worst_hit1': 0.30443548387096775, 'eval_valid/worst_hit3': 0.5907258064516129, 'eval_valid/worst_hit5': 0.8548387096774194, 'eval_valid/worst_hit10': 1.0, 'eval_valid/worst_hit20': 1.0, 'eval_valid/worst_hit50': 1.0, 'eval_valid/worst_hit100': 1.0, 'eval_valid/worst_reciprocal_rank': 0.5097782258064516, 'eval_train_matching/roc_auc': 0.5319944378314506, 'eval_train_matching/average_precision': 0.21918454307211116, 'eval_train_matching/f1_score': 0.30877742946708464, 'eval_train_matching/precision': 0.19969589457678663, 'eval_train_matching/recall': 0.6804835924006909, 'eval_train_matching/accuracy': 0.40405405405405403, 'eval_train_matching/best_hit1': 0.278, 'eval_train_matching/best_hit3': 0.55, 'eval_train_matching/best_hit5': 0.812, 'eval_train_matching/best_hit10': 1.0, 'eval_train_matching/best_hit20': 1.0, 'eval_train_matching/best_hit50': 1.0, 'eval_train_matching/best_hit100': 1.0, 'eval_train_matching/best_reciprocal_rank': 0.4862, 'eval_train_matching/worst_hit1': 0.236, 'eval_train_matching/worst_hit3': 0.498, 'eval_train_matching/worst_hit5': 0.744, 'eval_train_matching/worst_hit10': 1.0, 'eval_train_matching/worst_hit20': 1.0, 'eval_train_matching/worst_hit50': 1.0, 'eval_train_matching/worst_hit100': 1.0, 'eval_train_matching/worst_reciprocal_rank': 0.44597380952380955, 'eval_train_relation/roc_auc': 0.46985956037853915, 'eval_train_relation/average_precision': 0.5816783852757308, 'eval_train_relation/f1_score': 0.576312952410288, 'eval_train_relation/precision': 0.6110385369039844, 'eval_train_relation/recall': 0.545322063538327, 'eval_train_relation/accuracy': 0.5035192203573362, 'eval_train_relation/best_hit1': 0.348, 'eval_train_relation/best_hit3': 0.776, 'eval_train_relation/best_hit5': 0.91, 'eval_train_relation/best_hit10': 1.0, 'eval_train_relation/best_hit20': 1.0, 'eval_train_relation/best_hit50': 1.0, 'eval_train_relation/best_hit100': 1.0, 'eval_train_relation/best_reciprocal_rank': 0.5822999999999999, 'eval_train_relation/worst_hit1': 0.0, 'eval_train_relation/worst_hit3': 0.02, 'eval_train_relation/worst_hit5': 0.106, 'eval_train_relation/worst_hit10': 0.558, 'eval_train_relation/worst_hit20': 0.968, 'eval_train_relation/worst_hit50': 1.0, 'eval_train_relation/worst_hit100': 1.0, 'eval_train_relation/worst_reciprocal_rank': 0.11759779598200516, 'eval_sequential_score': 0.46985956037853915, 'eval_runtime': 4.0884, 'eval_samples_per_second': 0.0, 'eval_steps_per_second': 0.0, 'epoch': 6.93}\n",
      "{'loss': 4.377, 'grad_norm': 5.447976589202881, 'learning_rate': 6.657785975339004e-06, 'epoch': 7.0}\n",
      "{'loss': 4.3689, 'grad_norm': 1.6574351787567139, 'learning_rate': 6.4829046691942485e-06, 'epoch': 7.08}\n",
      "{'loss': 4.3821, 'grad_norm': 1.3064273595809937, 'learning_rate': 6.3080233630494936e-06, 'epoch': 7.16}\n",
      "{'loss': 4.3748, 'grad_norm': 0.36405080556869507, 'learning_rate': 6.133142056904739e-06, 'epoch': 7.24}\n",
      "{'loss': 4.3684, 'grad_norm': 1.9525154829025269, 'learning_rate': 5.958260750759983e-06, 'epoch': 7.32}\n",
      "{'loss': 4.3688, 'grad_norm': 10.038755416870117, 'learning_rate': 5.783379444615227e-06, 'epoch': 7.4}\n",
      "{'loss': 4.3653, 'grad_norm': 15.532660484313965, 'learning_rate': 5.608498138470472e-06, 'epoch': 7.48}\n",
      "{'loss': 4.3696, 'grad_norm': 1.5778212547302246, 'learning_rate': 5.433616832325716e-06, 'epoch': 7.55}\n"
     ]
    },
    {
     "data": {
      "application/vnd.jupyter.widget-view+json": {
       "model_id": "8d347e38831f459bbd9a0219015ce47a",
       "version_major": 2,
       "version_minor": 0
      },
      "text/plain": [
       "Batches:   0%|          | 0/84 [00:00<?, ?it/s]"
      ]
     },
     "metadata": {},
     "output_type": "display_data"
    },
    {
     "data": {
      "application/vnd.jupyter.widget-view+json": {
       "model_id": "9941e8a66f294438bfa3df2623c13a6a",
       "version_major": 2,
       "version_minor": 0
      },
      "text/plain": [
       "Batches:   0%|          | 0/16 [00:00<?, ?it/s]"
      ]
     },
     "metadata": {},
     "output_type": "display_data"
    },
    {
     "data": {
      "application/vnd.jupyter.widget-view+json": {
       "model_id": "c1d9235e7caf42c6a70fdaa392525d04",
       "version_major": 2,
       "version_minor": 0
      },
      "text/plain": [
       "Batches:   0%|          | 0/86 [00:00<?, ?it/s]"
      ]
     },
     "metadata": {},
     "output_type": "display_data"
    },
    {
     "data": {
      "application/vnd.jupyter.widget-view+json": {
       "model_id": "502d4e2a63884c2e8c61221d476da5db",
       "version_major": 2,
       "version_minor": 0
      },
      "text/plain": [
       "Batches:   0%|          | 0/16 [00:00<?, ?it/s]"
      ]
     },
     "metadata": {},
     "output_type": "display_data"
    },
    {
     "data": {
      "application/vnd.jupyter.widget-view+json": {
       "model_id": "57672728ab9148128d0b2487f313f426",
       "version_major": 2,
       "version_minor": 0
      },
      "text/plain": [
       "Batches:   0%|          | 0/103 [00:00<?, ?it/s]"
      ]
     },
     "metadata": {},
     "output_type": "display_data"
    },
    {
     "data": {
      "application/vnd.jupyter.widget-view+json": {
       "model_id": "bf85c37836554d94b710f03d7dae40bd",
       "version_major": 2,
       "version_minor": 0
      },
      "text/plain": [
       "Batches:   0%|          | 0/16 [00:00<?, ?it/s]"
      ]
     },
     "metadata": {},
     "output_type": "display_data"
    },
    {
     "name": "stdout",
     "output_type": "stream",
     "text": [
      "{'eval_valid/roc_auc': 0.5759652032995313, 'eval_valid/average_precision': 0.21188345281217277, 'eval_valid/f1_score': 0.3027838598686268, 'eval_valid/precision': 0.17919289152165865, 'eval_valid/recall': 0.9758064516129032, 'eval_valid/accuracy': 0.20817051509769094, 'eval_valid/best_hit1': 0.2540322580645161, 'eval_valid/best_hit3': 0.5362903225806451, 'eval_valid/best_hit5': 0.844758064516129, 'eval_valid/best_hit10': 1.0, 'eval_valid/best_hit20': 1.0, 'eval_valid/best_hit50': 1.0, 'eval_valid/best_hit100': 1.0, 'eval_valid/best_reciprocal_rank': 0.4662634408602151, 'eval_valid/worst_hit1': 0.2540322580645161, 'eval_valid/worst_hit3': 0.5362903225806451, 'eval_valid/worst_hit5': 0.844758064516129, 'eval_valid/worst_hit10': 1.0, 'eval_valid/worst_hit20': 1.0, 'eval_valid/worst_hit50': 1.0, 'eval_valid/worst_hit100': 1.0, 'eval_valid/worst_reciprocal_rank': 0.4662634408602151, 'eval_train_matching/roc_auc': 0.5272577450005405, 'eval_train_matching/average_precision': 0.21555685506469974, 'eval_train_matching/f1_score': 0.309126213592233, 'eval_train_matching/precision': 0.19939879759519039, 'eval_train_matching/recall': 0.687392055267703, 'eval_train_matching/accuracy': 0.3989864864864865, 'eval_train_matching/best_hit1': 0.272, 'eval_train_matching/best_hit3': 0.534, 'eval_train_matching/best_hit5': 0.822, 'eval_train_matching/best_hit10': 1.0, 'eval_train_matching/best_hit20': 1.0, 'eval_train_matching/best_hit50': 1.0, 'eval_train_matching/best_hit100': 1.0, 'eval_train_matching/best_reciprocal_rank': 0.4792666666666667, 'eval_train_matching/worst_hit1': 0.224, 'eval_train_matching/worst_hit3': 0.49, 'eval_train_matching/worst_hit5': 0.76, 'eval_train_matching/worst_hit10': 1.0, 'eval_train_matching/worst_hit20': 1.0, 'eval_train_matching/worst_hit50': 1.0, 'eval_train_matching/worst_hit100': 1.0, 'eval_train_matching/worst_reciprocal_rank': 0.4393619047619048, 'eval_train_relation/roc_auc': 0.46552792285559186, 'eval_train_relation/average_precision': 0.5848499845820481, 'eval_train_relation/f1_score': 0.6176133103843947, 'eval_train_relation/precision': 0.608020333239198, 'eval_train_relation/recall': 0.6275138443602448, 'eval_train_relation/accuracy': 0.5188594116585454, 'eval_train_relation/best_hit1': 0.362, 'eval_train_relation/best_hit3': 0.746, 'eval_train_relation/best_hit5': 0.93, 'eval_train_relation/best_hit10': 1.0, 'eval_train_relation/best_hit20': 1.0, 'eval_train_relation/best_hit50': 1.0, 'eval_train_relation/best_hit100': 1.0, 'eval_train_relation/best_reciprocal_rank': 0.5814666666666667, 'eval_train_relation/worst_hit1': 0.0, 'eval_train_relation/worst_hit3': 0.024, 'eval_train_relation/worst_hit5': 0.1, 'eval_train_relation/worst_hit10': 0.566, 'eval_train_relation/worst_hit20': 0.968, 'eval_train_relation/worst_hit50': 1.0, 'eval_train_relation/worst_hit100': 1.0, 'eval_train_relation/worst_reciprocal_rank': 0.11779874044816703, 'eval_sequential_score': 0.46552792285559186, 'eval_runtime': 3.8083, 'eval_samples_per_second': 0.0, 'eval_steps_per_second': 0.0, 'epoch': 7.55}\n"
     ]
    },
    {
     "name": "stderr",
     "output_type": "stream",
     "text": [
      "2025-10-02 01:47:32 - Saving model checkpoint to output/finetune_posaware/2025-10-01_23-23-45\\checkpoint-24576\n",
      "2025-10-02 01:47:32 - Save model to output/finetune_posaware/2025-10-01_23-23-45\\checkpoint-24576\n"
     ]
    },
    {
     "name": "stdout",
     "output_type": "stream",
     "text": [
      "{'loss': 4.3639, 'grad_norm': 6.487547874450684, 'learning_rate': 5.2587355261809615e-06, 'epoch': 7.63}\n",
      "{'loss': 4.3739, 'grad_norm': 1.0889675617218018, 'learning_rate': 5.0838542200362065e-06, 'epoch': 7.71}\n",
      "{'loss': 4.3683, 'grad_norm': 2.6810038089752197, 'learning_rate': 4.908972913891451e-06, 'epoch': 7.79}\n",
      "{'loss': 4.3758, 'grad_norm': 94.09551239013672, 'learning_rate': 4.734091607746696e-06, 'epoch': 7.87}\n",
      "{'loss': 4.3628, 'grad_norm': 3.5822203159332275, 'learning_rate': 4.559210301601941e-06, 'epoch': 7.95}\n",
      "{'loss': 4.3633, 'grad_norm': 105.91431427001953, 'learning_rate': 4.384328995457185e-06, 'epoch': 8.03}\n",
      "{'loss': 4.367, 'grad_norm': 36.27656936645508, 'learning_rate': 4.209447689312429e-06, 'epoch': 8.11}\n",
      "{'loss': 4.3541, 'grad_norm': 2.0320849418640137, 'learning_rate': 4.034566383167674e-06, 'epoch': 8.18}\n"
     ]
    },
    {
     "data": {
      "application/vnd.jupyter.widget-view+json": {
       "model_id": "5f50c9bfc1ae4cb7a37123b66979203c",
       "version_major": 2,
       "version_minor": 0
      },
      "text/plain": [
       "Batches:   0%|          | 0/84 [00:00<?, ?it/s]"
      ]
     },
     "metadata": {},
     "output_type": "display_data"
    },
    {
     "data": {
      "application/vnd.jupyter.widget-view+json": {
       "model_id": "17363781c9714942b13d5e9e91303df7",
       "version_major": 2,
       "version_minor": 0
      },
      "text/plain": [
       "Batches:   0%|          | 0/16 [00:00<?, ?it/s]"
      ]
     },
     "metadata": {},
     "output_type": "display_data"
    },
    {
     "data": {
      "application/vnd.jupyter.widget-view+json": {
       "model_id": "3248621383694bb596ffa6596a6e90f1",
       "version_major": 2,
       "version_minor": 0
      },
      "text/plain": [
       "Batches:   0%|          | 0/86 [00:00<?, ?it/s]"
      ]
     },
     "metadata": {},
     "output_type": "display_data"
    },
    {
     "data": {
      "application/vnd.jupyter.widget-view+json": {
       "model_id": "31501ea59e0b4d56870a4e94633fdf96",
       "version_major": 2,
       "version_minor": 0
      },
      "text/plain": [
       "Batches:   0%|          | 0/16 [00:00<?, ?it/s]"
      ]
     },
     "metadata": {},
     "output_type": "display_data"
    },
    {
     "data": {
      "application/vnd.jupyter.widget-view+json": {
       "model_id": "1fcee88cfac246b588e3a06b85955036",
       "version_major": 2,
       "version_minor": 0
      },
      "text/plain": [
       "Batches:   0%|          | 0/103 [00:00<?, ?it/s]"
      ]
     },
     "metadata": {},
     "output_type": "display_data"
    },
    {
     "data": {
      "application/vnd.jupyter.widget-view+json": {
       "model_id": "c648b99969ef4e1dafbb42ba3f35febf",
       "version_major": 2,
       "version_minor": 0
      },
      "text/plain": [
       "Batches:   0%|          | 0/16 [00:00<?, ?it/s]"
      ]
     },
     "metadata": {},
     "output_type": "display_data"
    },
    {
     "name": "stdout",
     "output_type": "stream",
     "text": [
      "{'eval_valid/roc_auc': 0.5964559946584317, 'eval_valid/average_precision': 0.22345411968151146, 'eval_valid/f1_score': 0.30268918073796125, 'eval_valid/precision': 0.17912657290895634, 'eval_valid/recall': 0.9758064516129032, 'eval_valid/accuracy': 0.20781527531083482, 'eval_valid/best_hit1': 0.2399193548387097, 'eval_valid/best_hit3': 0.5725806451612904, 'eval_valid/best_hit5': 0.8528225806451613, 'eval_valid/best_hit10': 1.0, 'eval_valid/best_hit20': 1.0, 'eval_valid/best_hit50': 1.0, 'eval_valid/best_hit100': 1.0, 'eval_valid/best_reciprocal_rank': 0.46844758064516134, 'eval_valid/worst_hit1': 0.2399193548387097, 'eval_valid/worst_hit3': 0.5725806451612904, 'eval_valid/worst_hit5': 0.8528225806451613, 'eval_valid/worst_hit10': 1.0, 'eval_valid/worst_hit20': 1.0, 'eval_valid/worst_hit50': 1.0, 'eval_valid/worst_hit100': 1.0, 'eval_valid/worst_reciprocal_rank': 0.46844758064516134, 'eval_train_matching/roc_auc': 0.53086575574188, 'eval_train_matching/average_precision': 0.2163708564708316, 'eval_train_matching/f1_score': 0.31167826759474093, 'eval_train_matching/precision': 0.20079720976581963, 'eval_train_matching/recall': 0.696027633851468, 'eval_train_matching/accuracy': 0.39864864864864863, 'eval_train_matching/best_hit1': 0.23, 'eval_train_matching/best_hit3': 0.486, 'eval_train_matching/best_hit5': 0.808, 'eval_train_matching/best_hit10': 1.0, 'eval_train_matching/best_hit20': 1.0, 'eval_train_matching/best_hit50': 1.0, 'eval_train_matching/best_hit100': 1.0, 'eval_train_matching/best_reciprocal_rank': 0.4411333333333333, 'eval_train_matching/worst_hit1': 0.188, 'eval_train_matching/worst_hit3': 0.434, 'eval_train_matching/worst_hit5': 0.734, 'eval_train_matching/worst_hit10': 1.0, 'eval_train_matching/worst_hit20': 1.0, 'eval_train_matching/worst_hit50': 1.0, 'eval_train_matching/worst_hit100': 1.0, 'eval_train_matching/worst_reciprocal_rank': 0.4007952380952381, 'eval_train_relation/roc_auc': 0.4679612012581136, 'eval_train_relation/average_precision': 0.5876259122170575, 'eval_train_relation/f1_score': 0.6068363636363636, 'eval_train_relation/precision': 0.6056910569105691, 'eval_train_relation/recall': 0.6079860099096474, 'eval_train_relation/accuracy': 0.5121819166215484, 'eval_train_relation/best_hit1': 0.37, 'eval_train_relation/best_hit3': 0.754, 'eval_train_relation/best_hit5': 0.926, 'eval_train_relation/best_hit10': 1.0, 'eval_train_relation/best_hit20': 1.0, 'eval_train_relation/best_hit50': 1.0, 'eval_train_relation/best_hit100': 1.0, 'eval_train_relation/best_reciprocal_rank': 0.5907, 'eval_train_relation/worst_hit1': 0.0, 'eval_train_relation/worst_hit3': 0.024, 'eval_train_relation/worst_hit5': 0.102, 'eval_train_relation/worst_hit10': 0.566, 'eval_train_relation/worst_hit20': 0.968, 'eval_train_relation/worst_hit50': 1.0, 'eval_train_relation/worst_hit100': 1.0, 'eval_train_relation/worst_reciprocal_rank': 0.11801043102068509, 'eval_sequential_score': 0.4679612012581136, 'eval_runtime': 3.6612, 'eval_samples_per_second': 0.0, 'eval_steps_per_second': 0.0, 'epoch': 8.18}\n",
      "{'loss': 4.3651, 'grad_norm': 2.7079203128814697, 'learning_rate': 3.8596850770229195e-06, 'epoch': 8.26}\n",
      "{'loss': 4.3599, 'grad_norm': 1.7810766696929932, 'learning_rate': 3.684803770878164e-06, 'epoch': 8.34}\n",
      "{'loss': 4.3656, 'grad_norm': 1.1642937660217285, 'learning_rate': 3.5099224647334092e-06, 'epoch': 8.42}\n",
      "{'loss': 4.3633, 'grad_norm': 2.224360227584839, 'learning_rate': 3.3350411585886534e-06, 'epoch': 8.5}\n",
      "{'loss': 4.3663, 'grad_norm': 0.6661561727523804, 'learning_rate': 3.160159852443898e-06, 'epoch': 8.58}\n",
      "{'loss': 4.36, 'grad_norm': 0.8591170907020569, 'learning_rate': 2.9852785462991427e-06, 'epoch': 8.66}\n",
      "{'loss': 4.3642, 'grad_norm': 13.28857707977295, 'learning_rate': 2.810397240154388e-06, 'epoch': 8.74}\n",
      "{'loss': 4.3511, 'grad_norm': 6.347326755523682, 'learning_rate': 2.6355159340096325e-06, 'epoch': 8.81}\n"
     ]
    },
    {
     "data": {
      "application/vnd.jupyter.widget-view+json": {
       "model_id": "88693e3324904149b0a4fee98bfcaff8",
       "version_major": 2,
       "version_minor": 0
      },
      "text/plain": [
       "Batches:   0%|          | 0/84 [00:00<?, ?it/s]"
      ]
     },
     "metadata": {},
     "output_type": "display_data"
    },
    {
     "data": {
      "application/vnd.jupyter.widget-view+json": {
       "model_id": "5daa5c1d93cc46048a0f6e6e5bc10ab3",
       "version_major": 2,
       "version_minor": 0
      },
      "text/plain": [
       "Batches:   0%|          | 0/16 [00:00<?, ?it/s]"
      ]
     },
     "metadata": {},
     "output_type": "display_data"
    },
    {
     "data": {
      "application/vnd.jupyter.widget-view+json": {
       "model_id": "c247c2ad9a6d49cc9c0c36b95776d30f",
       "version_major": 2,
       "version_minor": 0
      },
      "text/plain": [
       "Batches:   0%|          | 0/86 [00:00<?, ?it/s]"
      ]
     },
     "metadata": {},
     "output_type": "display_data"
    },
    {
     "data": {
      "application/vnd.jupyter.widget-view+json": {
       "model_id": "09eddf86185f48168861539fd873680a",
       "version_major": 2,
       "version_minor": 0
      },
      "text/plain": [
       "Batches:   0%|          | 0/16 [00:00<?, ?it/s]"
      ]
     },
     "metadata": {},
     "output_type": "display_data"
    },
    {
     "data": {
      "application/vnd.jupyter.widget-view+json": {
       "model_id": "415062d9c7c943ccb7195d229b23e91c",
       "version_major": 2,
       "version_minor": 0
      },
      "text/plain": [
       "Batches:   0%|          | 0/103 [00:00<?, ?it/s]"
      ]
     },
     "metadata": {},
     "output_type": "display_data"
    },
    {
     "data": {
      "application/vnd.jupyter.widget-view+json": {
       "model_id": "dc8fe1b4200e449d81d558eaae008e48",
       "version_major": 2,
       "version_minor": 0
      },
      "text/plain": [
       "Batches:   0%|          | 0/16 [00:00<?, ?it/s]"
      ]
     },
     "metadata": {},
     "output_type": "display_data"
    },
    {
     "name": "stdout",
     "output_type": "stream",
     "text": [
      "{'eval_valid/roc_auc': 0.5886375175617965, 'eval_valid/average_precision': 0.21935980993453327, 'eval_valid/f1_score': 0.3027838598686268, 'eval_valid/precision': 0.17919289152165865, 'eval_valid/recall': 0.9758064516129032, 'eval_valid/accuracy': 0.20817051509769094, 'eval_valid/best_hit1': 0.22983870967741934, 'eval_valid/best_hit3': 0.5524193548387096, 'eval_valid/best_hit5': 0.8467741935483871, 'eval_valid/best_hit10': 1.0, 'eval_valid/best_hit20': 1.0, 'eval_valid/best_hit50': 1.0, 'eval_valid/best_hit100': 1.0, 'eval_valid/best_reciprocal_rank': 0.45678763440860215, 'eval_valid/worst_hit1': 0.22983870967741934, 'eval_valid/worst_hit3': 0.5524193548387096, 'eval_valid/worst_hit5': 0.8467741935483871, 'eval_valid/worst_hit10': 1.0, 'eval_valid/worst_hit20': 1.0, 'eval_valid/worst_hit50': 1.0, 'eval_valid/worst_hit100': 1.0, 'eval_valid/worst_reciprocal_rank': 0.45678763440860215, 'eval_train_matching/roc_auc': 0.5330977318277469, 'eval_train_matching/average_precision': 0.22191323490460685, 'eval_train_matching/f1_score': 0.3106796116504854, 'eval_train_matching/precision': 0.20040080160320642, 'eval_train_matching/recall': 0.690846286701209, 'eval_train_matching/accuracy': 0.40033783783783783, 'eval_train_matching/best_hit1': 0.248, 'eval_train_matching/best_hit3': 0.518, 'eval_train_matching/best_hit5': 0.814, 'eval_train_matching/best_hit10': 1.0, 'eval_train_matching/best_hit20': 1.0, 'eval_train_matching/best_hit50': 1.0, 'eval_train_matching/best_hit100': 1.0, 'eval_train_matching/best_reciprocal_rank': 0.457, 'eval_train_matching/worst_hit1': 0.198, 'eval_train_matching/worst_hit3': 0.464, 'eval_train_matching/worst_hit5': 0.752, 'eval_train_matching/worst_hit10': 1.0, 'eval_train_matching/worst_hit20': 1.0, 'eval_train_matching/worst_hit50': 1.0, 'eval_train_matching/worst_hit100': 1.0, 'eval_train_matching/worst_reciprocal_rank': 0.4113261904761905, 'eval_train_relation/roc_auc': 0.4722518824047816, 'eval_train_relation/average_precision': 0.5919484182647139, 'eval_train_relation/f1_score': 0.5955172925634555, 'eval_train_relation/precision': 0.6067755595886267, 'eval_train_relation/recall': 0.5846691926552026, 'eval_train_relation/accuracy': 0.5082115141671179, 'eval_train_relation/best_hit1': 0.374, 'eval_train_relation/best_hit3': 0.768, 'eval_train_relation/best_hit5': 0.934, 'eval_train_relation/best_hit10': 1.0, 'eval_train_relation/best_hit20': 1.0, 'eval_train_relation/best_hit50': 1.0, 'eval_train_relation/best_hit100': 1.0, 'eval_train_relation/best_reciprocal_rank': 0.5922666666666667, 'eval_train_relation/worst_hit1': 0.0, 'eval_train_relation/worst_hit3': 0.026, 'eval_train_relation/worst_hit5': 0.104, 'eval_train_relation/worst_hit10': 0.578, 'eval_train_relation/worst_hit20': 0.97, 'eval_train_relation/worst_hit50': 1.0, 'eval_train_relation/worst_hit100': 1.0, 'eval_train_relation/worst_reciprocal_rank': 0.11820922413933116, 'eval_sequential_score': 0.4722518824047816, 'eval_runtime': 3.8893, 'eval_samples_per_second': 0.0, 'eval_steps_per_second': 0.0, 'epoch': 8.81}\n"
     ]
    },
    {
     "name": "stderr",
     "output_type": "stream",
     "text": [
      "2025-10-02 02:10:22 - Saving model checkpoint to output/finetune_posaware/2025-10-01_23-23-45\\checkpoint-28672\n",
      "2025-10-02 02:10:22 - Save model to output/finetune_posaware/2025-10-01_23-23-45\\checkpoint-28672\n"
     ]
    },
    {
     "name": "stdout",
     "output_type": "stream",
     "text": [
      "{'loss': 4.3542, 'grad_norm': 0.20680442452430725, 'learning_rate': 2.460634627864877e-06, 'epoch': 8.89}\n",
      "{'loss': 4.3643, 'grad_norm': 3.7266111373901367, 'learning_rate': 2.2857533217201218e-06, 'epoch': 8.97}\n",
      "{'loss': 4.3658, 'grad_norm': 0.12052652984857559, 'learning_rate': 2.1108720155753664e-06, 'epoch': 9.05}\n",
      "{'loss': 4.3508, 'grad_norm': 12.498051643371582, 'learning_rate': 1.9359907094306115e-06, 'epoch': 9.13}\n",
      "{'loss': 4.3576, 'grad_norm': 1.8563367128372192, 'learning_rate': 1.761109403285856e-06, 'epoch': 9.21}\n",
      "{'loss': 4.3569, 'grad_norm': 2.3846402168273926, 'learning_rate': 1.5862280971411006e-06, 'epoch': 9.29}\n",
      "{'loss': 4.3553, 'grad_norm': 0.11905676126480103, 'learning_rate': 1.4113467909963454e-06, 'epoch': 9.36}\n",
      "{'loss': 4.3599, 'grad_norm': 8.195145606994629, 'learning_rate': 1.23646548485159e-06, 'epoch': 9.44}\n"
     ]
    },
    {
     "data": {
      "application/vnd.jupyter.widget-view+json": {
       "model_id": "beb1cfeb76204f5aa81f3e059bffc7b9",
       "version_major": 2,
       "version_minor": 0
      },
      "text/plain": [
       "Batches:   0%|          | 0/84 [00:00<?, ?it/s]"
      ]
     },
     "metadata": {},
     "output_type": "display_data"
    },
    {
     "data": {
      "application/vnd.jupyter.widget-view+json": {
       "model_id": "528ef4a067944d91b2e1faa829cb5c86",
       "version_major": 2,
       "version_minor": 0
      },
      "text/plain": [
       "Batches:   0%|          | 0/16 [00:00<?, ?it/s]"
      ]
     },
     "metadata": {},
     "output_type": "display_data"
    },
    {
     "data": {
      "application/vnd.jupyter.widget-view+json": {
       "model_id": "92fbcdeb3a5d4d45821bdcd19a077d8d",
       "version_major": 2,
       "version_minor": 0
      },
      "text/plain": [
       "Batches:   0%|          | 0/86 [00:00<?, ?it/s]"
      ]
     },
     "metadata": {},
     "output_type": "display_data"
    },
    {
     "data": {
      "application/vnd.jupyter.widget-view+json": {
       "model_id": "f8ac7aeb46f44f7aad20fa5f489aa831",
       "version_major": 2,
       "version_minor": 0
      },
      "text/plain": [
       "Batches:   0%|          | 0/16 [00:00<?, ?it/s]"
      ]
     },
     "metadata": {},
     "output_type": "display_data"
    },
    {
     "data": {
      "application/vnd.jupyter.widget-view+json": {
       "model_id": "ffe849e532cc4a30bc4a9cec99e1cd22",
       "version_major": 2,
       "version_minor": 0
      },
      "text/plain": [
       "Batches:   0%|          | 0/103 [00:00<?, ?it/s]"
      ]
     },
     "metadata": {},
     "output_type": "display_data"
    },
    {
     "data": {
      "application/vnd.jupyter.widget-view+json": {
       "model_id": "2c164e471a6d456b85e41ee055674837",
       "version_major": 2,
       "version_minor": 0
      },
      "text/plain": [
       "Batches:   0%|          | 0/16 [00:00<?, ?it/s]"
      ]
     },
     "metadata": {},
     "output_type": "display_data"
    },
    {
     "name": "stdout",
     "output_type": "stream",
     "text": [
      "{'eval_valid/roc_auc': 0.5728671111018376, 'eval_valid/average_precision': 0.20722154054582115, 'eval_valid/f1_score': 0.3029733959311424, 'eval_valid/precision': 0.1793256761763616, 'eval_valid/recall': 0.9758064516129032, 'eval_valid/accuracy': 0.2088809946714032, 'eval_valid/best_hit1': 0.20766129032258066, 'eval_valid/best_hit3': 0.5201612903225806, 'eval_valid/best_hit5': 0.8709677419354839, 'eval_valid/best_hit10': 1.0, 'eval_valid/best_hit20': 1.0, 'eval_valid/best_hit50': 1.0, 'eval_valid/best_hit100': 1.0, 'eval_valid/best_reciprocal_rank': 0.43887768817204303, 'eval_valid/worst_hit1': 0.20766129032258066, 'eval_valid/worst_hit3': 0.5201612903225806, 'eval_valid/worst_hit5': 0.8709677419354839, 'eval_valid/worst_hit10': 1.0, 'eval_valid/worst_hit20': 1.0, 'eval_valid/worst_hit50': 1.0, 'eval_valid/worst_hit100': 1.0, 'eval_valid/worst_reciprocal_rank': 0.43887768817204303, 'eval_train_matching/roc_auc': 0.5269596162480895, 'eval_train_matching/average_precision': 0.21001253378689133, 'eval_train_matching/f1_score': 0.3101438010104936, 'eval_train_matching/precision': 0.2001003009027081, 'eval_train_matching/recall': 0.689119170984456, 'eval_train_matching/accuracy': 0.40033783783783783, 'eval_train_matching/best_hit1': 0.218, 'eval_train_matching/best_hit3': 0.476, 'eval_train_matching/best_hit5': 0.804, 'eval_train_matching/best_hit10': 1.0, 'eval_train_matching/best_hit20': 1.0, 'eval_train_matching/best_hit50': 1.0, 'eval_train_matching/best_hit100': 1.0, 'eval_train_matching/best_reciprocal_rank': 0.433, 'eval_train_matching/worst_hit1': 0.18, 'eval_train_matching/worst_hit3': 0.436, 'eval_train_matching/worst_hit5': 0.734, 'eval_train_matching/worst_hit10': 1.0, 'eval_train_matching/worst_hit20': 1.0, 'eval_train_matching/worst_hit50': 1.0, 'eval_train_matching/worst_hit100': 1.0, 'eval_train_matching/worst_reciprocal_rank': 0.397702380952381, 'eval_train_relation/roc_auc': 0.4701599301600545, 'eval_train_relation/average_precision': 0.5916576056884963, 'eval_train_relation/f1_score': 0.595068330362448, 'eval_train_relation/precision': 0.6067858224780369, 'eval_train_relation/recall': 0.5837948120081609, 'eval_train_relation/accuracy': 0.5080310413282801, 'eval_train_relation/best_hit1': 0.348, 'eval_train_relation/best_hit3': 0.778, 'eval_train_relation/best_hit5': 0.938, 'eval_train_relation/best_hit10': 1.0, 'eval_train_relation/best_hit20': 1.0, 'eval_train_relation/best_hit50': 1.0, 'eval_train_relation/best_hit100': 1.0, 'eval_train_relation/best_reciprocal_rank': 0.5809, 'eval_train_relation/worst_hit1': 0.0, 'eval_train_relation/worst_hit3': 0.022, 'eval_train_relation/worst_hit5': 0.09, 'eval_train_relation/worst_hit10': 0.562, 'eval_train_relation/worst_hit20': 0.968, 'eval_train_relation/worst_hit50': 1.0, 'eval_train_relation/worst_hit100': 1.0, 'eval_train_relation/worst_reciprocal_rank': 0.11634677282215847, 'eval_sequential_score': 0.4701599301600545, 'eval_runtime': 3.804, 'eval_samples_per_second': 0.0, 'eval_steps_per_second': 0.0, 'epoch': 9.44}\n",
      "{'loss': 4.3521, 'grad_norm': 0.8672759532928467, 'learning_rate': 1.061584178706835e-06, 'epoch': 9.52}\n",
      "{'loss': 4.3538, 'grad_norm': 1.5348167419433594, 'learning_rate': 8.867028725620795e-07, 'epoch': 9.6}\n",
      "{'loss': 4.3605, 'grad_norm': 0.712327241897583, 'learning_rate': 7.118215664173242e-07, 'epoch': 9.68}\n",
      "{'loss': 4.3568, 'grad_norm': 6.99652624130249, 'learning_rate': 5.36940260272569e-07, 'epoch': 9.76}\n",
      "{'loss': 4.3601, 'grad_norm': 0.6652764678001404, 'learning_rate': 3.620589541278137e-07, 'epoch': 9.84}\n",
      "{'loss': 4.3578, 'grad_norm': 61.3645133972168, 'learning_rate': 1.8717764798305837e-07, 'epoch': 9.92}\n",
      "{'loss': 4.3554, 'grad_norm': 2.695167303085327, 'learning_rate': 1.2296341838303106e-08, 'epoch': 9.99}\n"
     ]
    },
    {
     "name": "stderr",
     "output_type": "stream",
     "text": [
      "2025-10-02 02:31:48 - Saving model checkpoint to output/finetune_posaware/2025-10-01_23-23-45\\checkpoint-32530\n",
      "2025-10-02 02:31:48 - Save model to output/finetune_posaware/2025-10-01_23-23-45\\checkpoint-32530\n",
      "2025-10-02 02:31:48 - Loading best model from output/finetune_posaware/2025-10-01_23-23-45\\checkpoint-4096 (score: 0.6014419799969397).\n",
      "2025-10-02 02:31:48 - Use pytorch device_name: cuda:0\n",
      "2025-10-02 02:31:48 - Load pretrained SentenceTransformer: output/finetune_posaware/2025-10-01_23-23-45\\checkpoint-4096\n"
     ]
    },
    {
     "name": "stdout",
     "output_type": "stream",
     "text": [
      "{'train_runtime': 10851.5586, 'train_samples_per_second': 767.235, 'train_steps_per_second': 2.998, 'train_loss': 4.426937723379666, 'epoch': 10.0}\n"
     ]
    },
    {
     "name": "stderr",
     "output_type": "stream",
     "text": [
      "2025-10-02 02:31:49 - Saving model checkpoint to output/finetune_posaware/2025-10-01_23-23-45\n",
      "2025-10-02 02:31:49 - Save model to output/finetune_posaware/2025-10-01_23-23-45\n",
      "2025-10-02 02:31:49 - Training completed. Model saved to output/finetune_posaware/2025-10-01_23-23-45 (Elapsed: 11284.57s, Since last: 10852.23s)\n",
      "2025-10-02 02:31:49 - All Jobs Done! (Elapsed: 11284.57s, Since last: 0.00s)\n"
     ]
    }
   ],
   "source": [
    "# Initialize the trainer\n",
    "trainer = SentenceTransformerTrainer(\n",
    "    model=model,\n",
    "    args=training_args,\n",
    "    train_dataset=ds_all,\n",
    "    eval_dataset=None,  # Using custom evaluator instead\n",
    "    loss=loss_func,\n",
    "    evaluator=[evaluator_valid, evaluator_train_matching, evaluator_train_relation],\n",
    "    tokenizer=tokenizer,\n",
    ")\n",
    "\n",
    "# Start training\n",
    "logger.log(f\"Starting SentenceTransformer training. Model saved to: {output_dir}\")\n",
    "trainer.train(resume_from_checkpoint=args.model_checkpoint if args.model_checkpoint != \"none\" else None)\n",
    "\n",
    "# Save the final model\n",
    "trainer.save_model()\n",
    "logger.log(f\"Training completed. Model saved to {output_dir}\")\n",
    "logger.done()"
   ]
  }
 ],
 "metadata": {
  "kernelspec": {
   "display_name": "base",
   "language": "python",
   "name": "python3"
  },
  "language_info": {
   "codemirror_mode": {
    "name": "ipython",
    "version": 3
   },
   "file_extension": ".py",
   "mimetype": "text/x-python",
   "name": "python",
   "nbconvert_exporter": "python",
   "pygments_lexer": "ipython3",
   "version": "3.12.3"
  }
 },
 "nbformat": 4,
 "nbformat_minor": 5
}
